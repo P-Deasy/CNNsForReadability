{
 "cells": [
  {
   "cell_type": "code",
   "execution_count": 22,
   "id": "995f0d13",
   "metadata": {},
   "outputs": [],
   "source": [
    "import tensorflow as tf\n",
    "\n",
    "import random\n",
    "\n",
    "from keras import Model\n",
    "\n",
    "import numpy as np\n",
    "\n",
    "from tensorflow import keras\n",
    "\n",
    "from keras.models import Sequential\n",
    "from keras.layers import Dense, Dropout, Flatten, Input, Concatenate\n",
    "from keras.layers import Conv2D, MaxPooling2D\n",
    "\n",
    "from tensorflow.keras import datasets, layers, models\n",
    "\n",
    "import matplotlib.pyplot as plt\n",
    "\n",
    "import os\n",
    "\n",
    "from sklearn.utils import shuffle\n",
    "from sklearn.model_selection import train_test_split"
   ]
  },
  {
   "cell_type": "code",
   "execution_count": 23,
   "id": "1c9bcebb",
   "metadata": {},
   "outputs": [],
   "source": [
    "os.environ['KMP_DUPLICATE_LIB_OK'] = 'True'"
   ]
  },
  {
   "cell_type": "code",
   "execution_count": 24,
   "id": "5e9b7ee6",
   "metadata": {},
   "outputs": [],
   "source": [
    "model = keras.models.load_model(r\"F:\\stack4MethodModel\")"
   ]
  },
  {
   "cell_type": "code",
   "execution_count": 60,
   "id": "74af0ee2",
   "metadata": {},
   "outputs": [],
   "source": [
    "character_files = []\n",
    "token_files = []\n",
    "\n",
    "character_file_path = r\"C:\\Users\\pauld\\PycharmProjects\\DeepCRMFYP\\Source Code\\Character\\Users\\pauld\\OneDrive\\Documents\\DSA\\FYP\\ScalabrinoDataset\\Ranked_Snippets\\5\"\n",
    "token_file_path = r\"C:\\Users\\pauld\\PycharmProjects\\DeepCRMFYP\\Source Code\\Token\\Users\\pauld\\OneDrive\\Documents\\DSA\\FYP\\ScalabrinoDataset\\Ranked_Snippets\\5\"\n",
    "\n",
    "for parent, dirnames, filenames in os.walk(character_file_path):\n",
    "    for filename in filenames:\n",
    "        character_files.append(os.path.join(parent, filename))\n",
    "        \n",
    "for parent, dirnames, filenames in os.walk(token_file_path):\n",
    "    for filename in filenames:\n",
    "        token_files.append(os.path.join(parent, filename))\n",
    "        "
   ]
  },
  {
   "cell_type": "code",
   "execution_count": 61,
   "id": "53ca9a61",
   "metadata": {},
   "outputs": [],
   "source": [
    "def matrixFileToMatrix(files, matrixList):\n",
    "    for file in files:\n",
    "        matrix = []\n",
    "        with open(file, 'r') as f:\n",
    "            matrix = [[int(num) for num in line.split(',') if num != \"\\n\"] for line in f ]\n",
    "        matrixList.append(np.array(matrix))"
   ]
  },
  {
   "cell_type": "code",
   "execution_count": 74,
   "id": "b2053110",
   "metadata": {},
   "outputs": [
    {
     "name": "stdout",
     "output_type": "stream",
     "text": [
      "['C:\\\\Users\\\\pauld\\\\PycharmProjects\\\\DeepCRMFYP\\\\Source Code\\\\Character\\\\Users\\\\pauld\\\\OneDrive\\\\Documents\\\\DSA\\\\FYP\\\\ScalabrinoDataset\\\\Ranked_Snippets\\\\5\\\\159.java.matrix']\n"
     ]
    }
   ],
   "source": [
    "input_chars = []\n",
    "input_tokens = []\n",
    "\n",
    "print(character_files[5:6])\n",
    "matrixFileToMatrix(character_files[5:6], input_chars)\n",
    "matrixFileToMatrix(token_files[5:6], input_tokens)"
   ]
  },
  {
   "cell_type": "code",
   "execution_count": 75,
   "id": "fd69b5c7",
   "metadata": {},
   "outputs": [],
   "source": [
    "input4_characters_x = np.array(input_chars)\n",
    "\n",
    "input4_tokens_x = np.array(input_tokens)"
   ]
  },
  {
   "cell_type": "code",
   "execution_count": 76,
   "id": "fb416a2b",
   "metadata": {},
   "outputs": [
    {
     "name": "stdout",
     "output_type": "stream",
     "text": [
      "(1, 50, 754)\n",
      "(1, 50, 754)\n"
     ]
    }
   ],
   "source": [
    "print(input4_characters_x.shape)\n",
    "print(input4_tokens_x.shape)"
   ]
  },
  {
   "cell_type": "code",
   "execution_count": 77,
   "id": "ba60da81",
   "metadata": {},
   "outputs": [],
   "source": [
    "input_stack = []\n",
    "\n",
    "for char_array, token_array in zip(input4_characters_x, input4_tokens_x):\n",
    "    input_stack.append(np.stack([np.array(char_array), np.array(token_array)], axis = -1))\n",
    "\n",
    "input_stack = np.array(input_stack)"
   ]
  },
  {
   "cell_type": "code",
   "execution_count": 78,
   "id": "8d41d0cf",
   "metadata": {},
   "outputs": [
    {
     "name": "stdout",
     "output_type": "stream",
     "text": [
      "1/1 [==============================] - 0s 48ms/step\n"
     ]
    }
   ],
   "source": [
    "#Stacked\n",
    "prediction = model.predict(input_stack)"
   ]
  },
  {
   "cell_type": "code",
   "execution_count": 79,
   "id": "53946226",
   "metadata": {},
   "outputs": [
    {
     "name": "stdout",
     "output_type": "stream",
     "text": [
      "4\n"
     ]
    }
   ],
   "source": [
    "for p in prediction:\n",
    "    print(p.argmax()+1)"
   ]
  },
  {
   "cell_type": "code",
   "execution_count": null,
   "id": "f3fae6f9",
   "metadata": {},
   "outputs": [],
   "source": []
  }
 ],
 "metadata": {
  "kernelspec": {
   "display_name": "Python 3 (ipykernel)",
   "language": "python",
   "name": "python3"
  },
  "language_info": {
   "codemirror_mode": {
    "name": "ipython",
    "version": 3
   },
   "file_extension": ".py",
   "mimetype": "text/x-python",
   "name": "python",
   "nbconvert_exporter": "python",
   "pygments_lexer": "ipython3",
   "version": "3.7.13"
  }
 },
 "nbformat": 4,
 "nbformat_minor": 5
}
