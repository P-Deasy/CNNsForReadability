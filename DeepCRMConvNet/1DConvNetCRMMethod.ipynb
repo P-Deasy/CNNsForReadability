{
 "cells": [
  {
   "cell_type": "code",
   "execution_count": 1,
   "id": "28627b95",
   "metadata": {},
   "outputs": [],
   "source": [
    "import os\n",
    "\n",
    "os.environ['KMP_DUPLICATE_LIB_OK']='True'"
   ]
  },
  {
   "cell_type": "code",
   "execution_count": 5,
   "id": "fddc5092",
   "metadata": {},
   "outputs": [
    {
     "name": "stdout",
     "output_type": "stream",
     "text": [
      "Collecting package metadata (current_repodata.json): ...working... done\n",
      "Solving environment: ...working... done\n",
      "\n",
      "## Package Plan ##\n",
      "\n",
      "  environment location: C:\\Users\\pauld\\Anaconda3\n",
      "\n",
      "  added / updated specs:\n",
      "    - graphviz\n",
      "\n",
      "\n",
      "The following packages will be downloaded:\n",
      "\n",
      "    package                    |            build\n",
      "    ---------------------------|-----------------\n",
      "    ca-certificates-2023.01.10 |       haa95532_0         121 KB\n",
      "    cairo-1.16.0               |       h1c23506_3         1.9 MB\n",
      "    certifi-2022.12.7          |   py37haa95532_0         149 KB\n",
      "    expat-2.4.9                |       h6c2663c_0         207 KB\n",
      "    fontconfig-2.14.1          |       hc0defaf_1         198 KB\n",
      "    fribidi-1.0.10             |       h62dcd97_0          63 KB\n",
      "    getopt-win32-0.1           |       h2bbff1b_0          19 KB\n",
      "    glib-2.69.1                |       h5dc1a3c_2         1.8 MB\n",
      "    graphite2-1.3.14           |       hd77b12b_1          91 KB\n",
      "    graphviz-2.50.0            |       hdb8b0d4_0         903 KB\n",
      "    gts-0.7.6                  |       h63ab5a1_3         181 KB\n",
      "    harfbuzz-4.3.0             |       hb646838_1         855 KB\n",
      "    libffi-3.4.2               |       hd77b12b_6         109 KB\n",
      "    libgd-2.3.3                |       hd77b12b_2         350 KB\n",
      "    libprotobuf-3.20.3         |       h23ce68f_0         2.2 MB\n",
      "    openssl-1.1.1t             |       h2bbff1b_0         5.5 MB\n",
      "    pango-1.50.7               |       h78c2152_0         279 KB\n",
      "    pcre-8.45                  |       hd77b12b_0         382 KB\n",
      "    pixman-0.40.0              |       h2bbff1b_1         402 KB\n",
      "    protobuf-3.20.3            |   py37hd77b12b_0         231 KB\n",
      "    ------------------------------------------------------------\n",
      "                                           Total:        15.8 MB\n",
      "\n",
      "The following NEW packages will be INSTALLED:\n",
      "\n",
      "  cairo              pkgs/main/win-64::cairo-1.16.0-h1c23506_3 None\n",
      "  expat              pkgs/main/win-64::expat-2.4.9-h6c2663c_0 None\n",
      "  fontconfig         pkgs/main/win-64::fontconfig-2.14.1-hc0defaf_1 None\n",
      "  fribidi            pkgs/main/win-64::fribidi-1.0.10-h62dcd97_0 None\n",
      "  gast               pkgs/main/noarch::gast-0.5.3-pyhd3eb1b0_0 None\n",
      "  getopt-win32       pkgs/main/win-64::getopt-win32-0.1-h2bbff1b_0 None\n",
      "  glib               pkgs/main/win-64::glib-2.69.1-h5dc1a3c_2 None\n",
      "  graphite2          pkgs/main/win-64::graphite2-1.3.14-hd77b12b_1 None\n",
      "  graphviz           pkgs/main/win-64::graphviz-2.50.0-hdb8b0d4_0 None\n",
      "  gts                pkgs/main/win-64::gts-0.7.6-h63ab5a1_3 None\n",
      "  harfbuzz           pkgs/main/win-64::harfbuzz-4.3.0-hb646838_1 None\n",
      "  libffi             pkgs/main/win-64::libffi-3.4.2-hd77b12b_6 None\n",
      "  libgd              pkgs/main/win-64::libgd-2.3.3-hd77b12b_2 None\n",
      "  pango              pkgs/main/win-64::pango-1.50.7-h78c2152_0 None\n",
      "  pcre               pkgs/main/win-64::pcre-8.45-hd77b12b_0 None\n",
      "  pixman             pkgs/main/win-64::pixman-0.40.0-h2bbff1b_1 None\n",
      "  protobuf           pkgs/main/win-64::protobuf-3.20.3-py37hd77b12b_0 None\n",
      "\n",
      "The following packages will be UPDATED:\n",
      "\n",
      "  ca-certificates                     2022.10.11-haa95532_0 --> 2023.01.10-haa95532_0 None\n",
      "  certifi                          2022.9.24-py37haa95532_0 --> 2022.12.7-py37haa95532_0 None\n",
      "  libprotobuf                             3.20.1-h23ce68f_0 --> 3.20.3-h23ce68f_0 None\n",
      "  openssl                                 1.1.1s-h2bbff1b_0 --> 1.1.1t-h2bbff1b_0 None\n",
      "\n",
      "\n",
      "\n",
      "Downloading and Extracting Packages\n",
      "\n",
      "fontconfig-2.14.1    | 198 KB    |            |   0% \n",
      "fontconfig-2.14.1    | 198 KB    | 8          |   8% \n",
      "fontconfig-2.14.1    | 198 KB    | ########## | 100% \n",
      "fontconfig-2.14.1    | 198 KB    | ########## | 100% \n",
      "\n",
      "ca-certificates-2023 | 121 KB    |            |   0% \n",
      "ca-certificates-2023 | 121 KB    | ########## | 100% \n",
      "ca-certificates-2023 | 121 KB    | ########## | 100% \n",
      "\n",
      "graphviz-2.50.0      | 903 KB    |            |   0% \n",
      "graphviz-2.50.0      | 903 KB    | ###5       |  35% \n",
      "graphviz-2.50.0      | 903 KB    | ########## | 100% \n",
      "graphviz-2.50.0      | 903 KB    | ########## | 100% \n",
      "\n",
      "libprotobuf-3.20.3   | 2.2 MB    |            |   0% \n",
      "libprotobuf-3.20.3   | 2.2 MB    | #4         |  15% \n",
      "libprotobuf-3.20.3   | 2.2 MB    | ####1      |  41% \n",
      "libprotobuf-3.20.3   | 2.2 MB    | ######6    |  67% \n",
      "libprotobuf-3.20.3   | 2.2 MB    | #########1 |  91% \n",
      "libprotobuf-3.20.3   | 2.2 MB    | ########## | 100% \n",
      "\n",
      "pixman-0.40.0        | 402 KB    |            |   0% \n",
      "pixman-0.40.0        | 402 KB    | #######9   |  80% \n",
      "pixman-0.40.0        | 402 KB    | ########## | 100% \n",
      "\n",
      "fribidi-1.0.10       | 63 KB     |            |   0% \n",
      "fribidi-1.0.10       | 63 KB     | ########## | 100% \n",
      "fribidi-1.0.10       | 63 KB     | ########## | 100% \n",
      "\n",
      "cairo-1.16.0         | 1.9 MB    |            |   0% \n",
      "cairo-1.16.0         | 1.9 MB    | #5         |  15% \n",
      "cairo-1.16.0         | 1.9 MB    | ####5      |  45% \n",
      "cairo-1.16.0         | 1.9 MB    | #######5   |  75% \n",
      "cairo-1.16.0         | 1.9 MB    | ########## | 100% \n",
      "\n",
      "libgd-2.3.3          | 350 KB    |            |   0% \n",
      "libgd-2.3.3          | 350 KB    | ########6  |  87% \n",
      "libgd-2.3.3          | 350 KB    | ########## | 100% \n",
      "\n",
      "expat-2.4.9          | 207 KB    |            |   0% \n",
      "expat-2.4.9          | 207 KB    | ########## | 100% \n",
      "expat-2.4.9          | 207 KB    | ########## | 100% \n",
      "\n",
      "protobuf-3.20.3      | 231 KB    |            |   0% \n",
      "protobuf-3.20.3      | 231 KB    | ########## | 100% \n",
      "protobuf-3.20.3      | 231 KB    | ########## | 100% \n",
      "\n",
      "gts-0.7.6            | 181 KB    |            |   0% \n",
      "gts-0.7.6            | 181 KB    | ########## | 100% \n",
      "gts-0.7.6            | 181 KB    | ########## | 100% \n",
      "\n",
      "certifi-2022.12.7    | 149 KB    |            |   0% \n",
      "certifi-2022.12.7    | 149 KB    | ########## | 100% \n",
      "certifi-2022.12.7    | 149 KB    | ########## | 100% \n",
      "\n",
      "glib-2.69.1          | 1.8 MB    |            |   0% \n",
      "glib-2.69.1          | 1.8 MB    | #3         |  13% \n",
      "glib-2.69.1          | 1.8 MB    | ####9      |  49% \n",
      "glib-2.69.1          | 1.8 MB    | ########1  |  82% \n",
      "glib-2.69.1          | 1.8 MB    | ########## | 100% \n",
      "\n",
      "getopt-win32-0.1     | 19 KB     |            |   0% \n",
      "getopt-win32-0.1     | 19 KB     | ########## | 100% \n",
      "getopt-win32-0.1     | 19 KB     | ########## | 100% \n",
      "\n",
      "pango-1.50.7         | 279 KB    |            |   0% \n",
      "pango-1.50.7         | 279 KB    | ########## | 100% \n",
      "pango-1.50.7         | 279 KB    | ########## | 100% \n",
      "\n",
      "graphite2-1.3.14     | 91 KB     |            |   0% \n",
      "graphite2-1.3.14     | 91 KB     | ########## | 100% \n",
      "graphite2-1.3.14     | 91 KB     | ########## | 100% \n",
      "\n",
      "openssl-1.1.1t       | 5.5 MB    |            |   0% \n",
      "openssl-1.1.1t       | 5.5 MB    | 5          |   6% \n",
      "openssl-1.1.1t       | 5.5 MB    | #4         |  15% \n",
      "openssl-1.1.1t       | 5.5 MB    | ##7        |  27% \n",
      "openssl-1.1.1t       | 5.5 MB    | ###7       |  37% \n",
      "openssl-1.1.1t       | 5.5 MB    | ####7      |  48% \n",
      "openssl-1.1.1t       | 5.5 MB    | #####8     |  58% \n",
      "openssl-1.1.1t       | 5.5 MB    | ######8    |  68% \n",
      "openssl-1.1.1t       | 5.5 MB    | #######8   |  79% \n",
      "openssl-1.1.1t       | 5.5 MB    | ########9  |  89% \n",
      "openssl-1.1.1t       | 5.5 MB    | #########9 |  99% \n",
      "openssl-1.1.1t       | 5.5 MB    | ########## | 100% \n",
      "\n",
      "pcre-8.45            | 382 KB    |            |   0% \n",
      "pcre-8.45            | 382 KB    | ########7  |  88% \n",
      "pcre-8.45            | 382 KB    | ########## | 100% \n",
      "\n",
      "libffi-3.4.2         | 109 KB    |            |   0% \n",
      "libffi-3.4.2         | 109 KB    | ########## | 100% \n",
      "libffi-3.4.2         | 109 KB    | ########## | 100% \n",
      "\n",
      "harfbuzz-4.3.0       | 855 KB    |            |   0% \n",
      "harfbuzz-4.3.0       | 855 KB    | ###9       |  39% \n",
      "harfbuzz-4.3.0       | 855 KB    | ########## | 100% \n",
      "harfbuzz-4.3.0       | 855 KB    | ########## | 100% \n",
      "Preparing transaction: ...working... done\n",
      "Verifying transaction: ...working... done\n",
      "Executing transaction: ...working... done\n",
      "Retrieving notices: ...working... done\n",
      "\n",
      "Note: you may need to restart the kernel to use updated packages.\n"
     ]
    },
    {
     "name": "stderr",
     "output_type": "stream",
     "text": [
      "\n",
      "The environment is inconsistent, please check the package plan carefully\n",
      "The following packages are causing the inconsistency:\n",
      "\n",
      "  - defaults/win-64::anaconda==custom=py37_1\n",
      "  - defaults/win-64::google-api-core==2.10.1=py37haa95532_0\n",
      "  - defaults/win-64::google-cloud-core==2.3.2=py37haa95532_0\n",
      "  - defaults/win-64::google-cloud-storage==2.6.0=py37haa95532_0\n",
      "  - defaults/win-64::googleapis-common-protos==1.56.4=py37haa95532_0\n",
      "  - defaults/win-64::tensorboard==2.9.0=py37haa95532_0\n",
      "  - defaults/win-64::tensorflow==2.9.1=mkl_py37h6343fec_1\n",
      "  - defaults/win-64::tensorflow-base==2.9.1=mkl_py37h6a7f48e_1\n",
      "  - defaults/win-64::_anaconda_depends==2022.05=py37_0\n",
      "\n",
      "\n",
      "==> WARNING: A newer version of conda exists. <==\n",
      "  current version: 22.9.0\n",
      "  latest version: 23.3.1\n",
      "\n",
      "Please update conda by running\n",
      "\n",
      "    $ conda update -n base -c defaults conda\n",
      "\n",
      "\n"
     ]
    }
   ],
   "source": [
    "conda install graphviz"
   ]
  },
  {
   "cell_type": "code",
   "execution_count": 2,
   "id": "b9db4fe8",
   "metadata": {},
   "outputs": [],
   "source": [
    "import tensorflow as tf\n",
    "\n",
    "import random\n",
    "\n",
    "from keras import Model\n",
    "\n",
    "from tensorflow import keras\n",
    "\n",
    "from keras.models import Sequential\n",
    "from keras.layers import Dense, Dropout, Flatten, Input, Concatenate\n",
    "from keras.layers import Conv2D, MaxPooling2D, Conv1D, MaxPooling1D, AveragePooling2D\n",
    "\n",
    "from tensorflow.keras import datasets, layers, models\n",
    "\n",
    "import matplotlib.pyplot as plt\n",
    "\n",
    "import numpy as np\n",
    "\n",
    "import os\n",
    "\n",
    "from sklearn.utils import shuffle\n",
    "from sklearn.model_selection import train_test_split\n",
    "from ann_visualizer.visualize import ann_viz"
   ]
  },
  {
   "cell_type": "code",
   "execution_count": 51,
   "id": "f2d12c4c",
   "metadata": {},
   "outputs": [],
   "source": [
    "character_1best_files = []\n",
    "token_1best_files = []\n",
    "character_2mid_files = []\n",
    "token_2mid_files = []\n",
    "character_3mid_files = []\n",
    "token_3mid_files = []\n",
    "character_4worst_files = []\n",
    "token_4worst_files = []\n",
    "\n",
    "character_1best_file_path = r\"C:\\Users\\pauld\\PycharmProjects\\DeepCRMFYP\\Source Code\\Character\\Users\\pauld\\PycharmProjects\\DeepCRMFYP\\RankedMethods\\results_1best\"\n",
    "token_1best_file_path = r\"C:\\Users\\pauld\\PycharmProjects\\DeepCRMFYP\\Source Code\\Token\\Users\\pauld\\PycharmProjects\\DeepCRMFYP\\RankedMethods\\results_1best\"\n",
    "\n",
    "character_2mid_file_path = r\"C:\\Users\\pauld\\PycharmProjects\\DeepCRMFYP\\Source Code\\Character\\Users\\pauld\\PycharmProjects\\DeepCRMFYP\\RankedMethods\\results_2mid\"\n",
    "token_2mid_file_path = r\"C:\\Users\\pauld\\PycharmProjects\\DeepCRMFYP\\Source Code\\Token\\Users\\pauld\\PycharmProjects\\DeepCRMFYP\\RankedMethods\\results_2mid\"\n",
    "\n",
    "character_3mid_file_path = r\"C:\\Users\\pauld\\PycharmProjects\\DeepCRMFYP\\Source Code\\Character\\Users\\pauld\\PycharmProjects\\DeepCRMFYP\\RankedMethods\\results_3mid\"\n",
    "token_3mid_file_path = r\"C:\\Users\\pauld\\PycharmProjects\\DeepCRMFYP\\Source Code\\Token\\Users\\pauld\\PycharmProjects\\DeepCRMFYP\\RankedMethods\\results_3mid\"\n",
    "\n",
    "character_4worst_file_path = r\"C:\\Users\\pauld\\PycharmProjects\\DeepCRMFYP\\Source Code\\Character\\Users\\pauld\\PycharmProjects\\DeepCRMFYP\\RankedMethods\\results_4worst\"\n",
    "token_4worst_file_path = r\"C:\\Users\\pauld\\PycharmProjects\\DeepCRMFYP\\Source Code\\Token\\Users\\pauld\\PycharmProjects\\DeepCRMFYP\\RankedMethods\\results_4worst\"\n",
    "\n",
    "for parent, dirnames, filenames in os.walk(character_1best_file_path):\n",
    "    for filename in filenames:\n",
    "        character_1best_files.append(os.path.join(parent, filename))\n",
    "        \n",
    "for parent, dirnames, filenames in os.walk(token_1best_file_path):\n",
    "    for filename in filenames:\n",
    "        token_1best_files.append(os.path.join(parent, filename))\n",
    "        \n",
    "for parent, dirnames, filenames in os.walk(character_2mid_file_path):\n",
    "    for filename in filenames:\n",
    "        character_2mid_files.append(os.path.join(parent, filename))\n",
    "        \n",
    "for parent, dirnames, filenames in os.walk(token_2mid_file_path):\n",
    "    for filename in filenames:\n",
    "        token_2mid_files.append(os.path.join(parent, filename))\n",
    "\n",
    "for parent, dirnames, filenames in os.walk(character_3mid_file_path):\n",
    "    for filename in filenames:\n",
    "        character_3mid_files.append(os.path.join(parent, filename))\n",
    "        \n",
    "for parent, dirnames, filenames in os.walk(token_3mid_file_path):\n",
    "    for filename in filenames:\n",
    "        token_3mid_files.append(os.path.join(parent, filename))\n",
    "        \n",
    "for parent, dirnames, filenames in os.walk(character_4worst_file_path):\n",
    "    for filename in filenames:\n",
    "        character_4worst_files.append(os.path.join(parent, filename))\n",
    "        \n",
    "for parent, dirnames, filenames in os.walk(token_4worst_file_path):\n",
    "    for filename in filenames:\n",
    "        token_4worst_files.append(os.path.join(parent, filename))\n",
    "        \n",
    "        \n",
    "        \n",
    "        \n"
   ]
  },
  {
   "cell_type": "code",
   "execution_count": 52,
   "id": "5aec169c",
   "metadata": {},
   "outputs": [],
   "source": [
    "def matrixFileToMatrix(files, matrixList):\n",
    "    for file in files:\n",
    "        matrix = []\n",
    "        with open(file, 'r') as f:\n",
    "            matrix = [[int(num) for num in line.split(',') if num != \"\\n\"][:754] for line in f ]\n",
    "        matrixList.append(np.array(matrix))"
   ]
  },
  {
   "cell_type": "code",
   "execution_count": 53,
   "id": "79743b3d",
   "metadata": {},
   "outputs": [],
   "source": [
    "random.seed(100)\n",
    "character_1best_files = random.sample(character_1best_files, k = 950)\n",
    "random.seed(100)\n",
    "token_1best_files = random.sample(token_1best_files, k= 950)\n",
    "#random.seed(100)\n",
    "#character_2mid_files = random.sample(character_2mid_files, k = 1500)\n",
    "#random.seed(100)\n",
    "#token_2mid_files = random.sample(token_2mid_files, k= 1500)\n",
    "#random.seed(100)\n",
    "#character_3mid_files = random.sample(character_3mid_files, k = 1500)\n",
    "#random.seed(100)\n",
    "#token_3mid_files = random.sample(token_3mid_files, k= 1500)\n",
    "random.seed(100)\n",
    "character_4worst_files = random.sample(character_4worst_files, k = 950)\n",
    "random.seed(100)\n",
    "token_4worst_files = random.sample(token_4worst_files, k= 950)"
   ]
  },
  {
   "cell_type": "code",
   "execution_count": 54,
   "id": "868b748d",
   "metadata": {},
   "outputs": [],
   "source": [
    "#Adding Scalabrino\n",
    "character_1best_file_path = r\"C:\\Users\\pauld\\PycharmProjects\\DeepCRMFYP\\Source Code\\Character\\Users\\pauld\\OneDrive\\Documents\\DSA\\FYP\\ScalabrinoDataset\\Ranked_Snippets\\4\"\n",
    "token_1best_file_path = r\"C:\\Users\\pauld\\PycharmProjects\\DeepCRMFYP\\Source Code\\Token\\Users\\pauld\\OneDrive\\Documents\\DSA\\FYP\\ScalabrinoDataset\\Ranked_Snippets\\4\"\n",
    "character_2mid_file_path = r\"C:\\Users\\pauld\\PycharmProjects\\DeepCRMFYP\\Source Code\\Character\\Users\\pauld\\OneDrive\\Documents\\DSA\\FYP\\ScalabrinoDataset\\Ranked_Snippets\\3\"\n",
    "token_2mid_file_path = r\"C:\\Users\\pauld\\PycharmProjects\\DeepCRMFYP\\Source Code\\Token\\Users\\pauld\\OneDrive\\Documents\\DSA\\FYP\\ScalabrinoDataset\\Ranked_Snippets\\3\"\n",
    "\n",
    "character_3mid_file_path = r\"C:\\Users\\pauld\\PycharmProjects\\DeepCRMFYP\\Source Code\\Character\\Users\\pauld\\OneDrive\\Documents\\DSA\\FYP\\ScalabrinoDataset\\Ranked_Snippets\\2\"\n",
    "token_3mid_file_path = r\"C:\\Users\\pauld\\PycharmProjects\\DeepCRMFYP\\Source Code\\Token\\Users\\pauld\\OneDrive\\Documents\\DSA\\FYP\\ScalabrinoDataset\\Ranked_Snippets\\2\"\n",
    "\n",
    "character_4worst_file_path = r\"C:\\Users\\pauld\\PycharmProjects\\DeepCRMFYP\\Source Code\\Character\\Users\\pauld\\OneDrive\\Documents\\DSA\\FYP\\ScalabrinoDataset\\Ranked_Snippets\\1\"\n",
    "token_4worst_file_path = r\"C:\\Users\\pauld\\PycharmProjects\\DeepCRMFYP\\Source Code\\Token\\Users\\pauld\\OneDrive\\Documents\\DSA\\FYP\\ScalabrinoDataset\\Ranked_Snippets\\1\"\n",
    "\n",
    "for parent, dirnames, filenames in os.walk(character_1best_file_path):\n",
    "    for filename in filenames:\n",
    "        character_1best_files.append(os.path.join(parent, filename))\n",
    "        \n",
    "for parent, dirnames, filenames in os.walk(token_1best_file_path):\n",
    "    for filename in filenames:\n",
    "        token_1best_files.append(os.path.join(parent, filename))\n",
    "        \n",
    "for parent, dirnames, filenames in os.walk(character_2mid_file_path):\n",
    "    for filename in filenames:\n",
    "        character_2mid_files.append(os.path.join(parent, filename))\n",
    "        \n",
    "for parent, dirnames, filenames in os.walk(token_2mid_file_path):\n",
    "    for filename in filenames:\n",
    "        token_2mid_files.append(os.path.join(parent, filename))\n",
    "\n",
    "for parent, dirnames, filenames in os.walk(character_3mid_file_path):\n",
    "    for filename in filenames:\n",
    "        character_3mid_files.append(os.path.join(parent, filename))\n",
    "        \n",
    "for parent, dirnames, filenames in os.walk(token_3mid_file_path):\n",
    "    for filename in filenames:\n",
    "        token_3mid_files.append(os.path.join(parent, filename))\n",
    "        \n",
    "for parent, dirnames, filenames in os.walk(character_4worst_file_path):\n",
    "    for filename in filenames:\n",
    "        character_4worst_files.append(os.path.join(parent, filename))\n",
    "        \n",
    "for parent, dirnames, filenames in os.walk(token_4worst_file_path):\n",
    "    for filename in filenames:\n",
    "        token_4worst_files.append(os.path.join(parent, filename))\n",
    "\n"
   ]
  },
  {
   "cell_type": "code",
   "execution_count": 55,
   "id": "d37509f5",
   "metadata": {},
   "outputs": [
    {
     "name": "stdout",
     "output_type": "stream",
     "text": [
      "done\n",
      "done\n",
      "done\n"
     ]
    }
   ],
   "source": [
    "best1_input_chars = []\n",
    "mid2_input_chars = []\n",
    "mid3_input_chars = []\n",
    "worst4_input_chars = []\n",
    "best1_input_tokens = []\n",
    "mid2_input_tokens = []\n",
    "mid3_input_tokens = []\n",
    "worst4_input_tokens = []\n",
    "\n",
    "\n",
    "matrixFileToMatrix(character_1best_files, best1_input_chars)\n",
    "matrixFileToMatrix(token_1best_files, best1_input_tokens)\n",
    "\n",
    "print(\"done\")\n",
    "\n",
    "#matrixFileToMatrix(character_2mid_files, mid2_input_chars)\n",
    "#matrixFileToMatrix(token_2mid_files, mid2_input_tokens)\n",
    "\n",
    "print(\"done\")\n",
    "\n",
    "#matrixFileToMatrix(character_3mid_files, mid3_input_chars)\n",
    "#matrixFileToMatrix(token_3mid_files, mid3_input_tokens)\n",
    "\n",
    "print(\"done\")\n",
    "\n",
    "matrixFileToMatrix(character_4worst_files, worst4_input_chars)\n",
    "matrixFileToMatrix(token_4worst_files, worst4_input_tokens)"
   ]
  },
  {
   "cell_type": "code",
   "execution_count": 56,
   "id": "b5a85611",
   "metadata": {},
   "outputs": [],
   "source": [
    "input4_characters_x = []\n",
    "input4_characters_y = []\n",
    "\n",
    "input4_tokens_x = []\n",
    "input4_tokens_y = []\n",
    "\n",
    "for x in best1_input_chars:\n",
    "    input4_characters_x.append(x)\n",
    "    input4_characters_y.append([0,1])\n",
    "\n",
    "#for x in mid2_input_chars:\n",
    " #   input4_characters_x.append(x)\n",
    "  #  input4_characters_y.append([0,0,1,0])\n",
    "    \n",
    "#for x in mid3_input_chars:\n",
    " #   input4_characters_x.append(x)\n",
    "  #  input4_characters_y.append([0,1,0,0])\n",
    "\n",
    "for x in worst4_input_chars:\n",
    "    input4_characters_x.append(x)\n",
    "    input4_characters_y.append([1,0])\n",
    "\n",
    "\n",
    "\n",
    "for x in best1_input_tokens:\n",
    "    input4_tokens_x.append(x)\n",
    "    input4_tokens_y.append([0, 1])\n",
    "\n",
    "#for x in mid2_input_tokens:\n",
    " #   input4_tokens_x.append(x)\n",
    "  #  input4_tokens_y.append([0,0,1,0])\n",
    "\n",
    "#for x in mid3_input_tokens:\n",
    " #   input4_tokens_x.append(x)\n",
    "  #  input4_tokens_y.append([0,1,0,0])\n",
    "\n",
    "for x in worst4_input_tokens:\n",
    "    input4_tokens_x.append(x)\n",
    "    input4_tokens_y.append([1,0])"
   ]
  },
  {
   "cell_type": "code",
   "execution_count": 57,
   "id": "68da5081",
   "metadata": {},
   "outputs": [],
   "source": [
    "input4_characters_x = np.array(input4_characters_x)\n",
    "input4_characters_y = np.array(input4_characters_y)\n",
    "\n",
    "input4_tokens_x = np.array(input4_tokens_x)\n",
    "input4_tokens_y = np.array(input4_tokens_y)"
   ]
  },
  {
   "cell_type": "code",
   "execution_count": 58,
   "id": "d2a83e82",
   "metadata": {},
   "outputs": [
    {
     "name": "stdout",
     "output_type": "stream",
     "text": [
      "(2011, 50, 754)\n",
      "(2011, 2)\n",
      "(2011, 50, 754)\n",
      "(2011, 2)\n"
     ]
    }
   ],
   "source": [
    "print(input4_characters_x.shape)\n",
    "print(input4_characters_y.shape)\n",
    "\n",
    "print(input4_tokens_x.shape)\n",
    "print(input4_tokens_y.shape)"
   ]
  },
  {
   "cell_type": "code",
   "execution_count": 35,
   "id": "cd79afd6",
   "metadata": {},
   "outputs": [],
   "source": [
    "input4_characters_x, input4_characters_y = shuffle(input4_characters_x, input4_characters_y, random_state=0)\n",
    "\n",
    "input4_tokens_x, input4_tokens_y = shuffle(input4_tokens_x, input4_tokens_y, random_state=0)"
   ]
  },
  {
   "cell_type": "code",
   "execution_count": 59,
   "id": "69e02912",
   "metadata": {},
   "outputs": [],
   "source": [
    "#Normalising\n",
    "#input4_characters_x = input4_characters_x + 1"
   ]
  },
  {
   "cell_type": "code",
   "execution_count": 61,
   "id": "c88d7571",
   "metadata": {},
   "outputs": [],
   "source": [
    "#input4_characters_x = input4_characters_x/127"
   ]
  },
  {
   "cell_type": "code",
   "execution_count": 62,
   "id": "e5fbfe42",
   "metadata": {},
   "outputs": [
    {
     "data": {
      "text/plain": [
       "1.0"
      ]
     },
     "execution_count": 62,
     "metadata": {},
     "output_type": "execute_result"
    }
   ],
   "source": [
    "#input4_characters_x.max()"
   ]
  },
  {
   "cell_type": "code",
   "execution_count": 63,
   "id": "8197de7a",
   "metadata": {},
   "outputs": [],
   "source": [
    "x_characters_train4, x_characters_test4, y_characters_train4, y_characters_test4 = train_test_split(\n",
    "    input4_characters_x, input4_characters_y, test_size = 0.2, random_state=24)\n",
    "\n",
    "#x_characters_train4, x_characters_valid4, y_characters_train4, y_characters_valid4 = train_test_split(\n",
    " #   x_characters_train4, y_characters_train4, test_size = 0.125, random_state=24)\n",
    "\n",
    "x_tokens_train4, x_tokens_test4, y_tokens_train4, y_tokens_test4 = train_test_split(\n",
    "    input4_tokens_x, input4_tokens_y, test_size = 0.2, random_state=24)"
   ]
  },
  {
   "cell_type": "markdown",
   "id": "0b0a96e0",
   "metadata": {},
   "source": [
    "# Single Input\n",
    "## Character Level"
   ]
  },
  {
   "cell_type": "code",
   "execution_count": 3,
   "id": "6d6d360a",
   "metadata": {},
   "outputs": [
    {
     "name": "stdout",
     "output_type": "stream",
     "text": [
      "Model: \"sequential\"\n",
      "_________________________________________________________________\n",
      " Layer (type)                Output Shape              Param #   \n",
      "=================================================================\n",
      " conv2d (Conv2D)             (None, 48, 752, 32)       320       \n",
      "                                                                 \n",
      " conv2d_1 (Conv2D)           (None, 46, 750, 64)       18496     \n",
      "                                                                 \n",
      " max_pooling2d (MaxPooling2D  (None, 23, 375, 64)      0         \n",
      " )                                                               \n",
      "                                                                 \n",
      " dropout (Dropout)           (None, 23, 375, 64)       0         \n",
      "                                                                 \n",
      " flatten (Flatten)           (None, 552000)            0         \n",
      "                                                                 \n",
      " dense (Dense)               (None, 64)                35328064  \n",
      "                                                                 \n",
      " dropout_1 (Dropout)         (None, 64)                0         \n",
      "                                                                 \n",
      " dense_1 (Dense)             (None, 2)                 130       \n",
      "                                                                 \n",
      "=================================================================\n",
      "Total params: 35,347,010\n",
      "Trainable params: 35,347,010\n",
      "Non-trainable params: 0\n",
      "_________________________________________________________________\n",
      "None\n"
     ]
    }
   ],
   "source": [
    "batch_size = 64\n",
    "epochs = 2\n",
    "\n",
    "model4 = Sequential()\n",
    "model4.add(Conv2D(32, kernel_size=(3, 3),\n",
    "                 activation='relu',\n",
    "                 input_shape=(50,754,1)))\n",
    "model4.add(Conv2D(64, (3, 3), activation='relu'))\n",
    "model4.add(MaxPooling2D(pool_size= (2,2)))\n",
    "model4.add(Dropout(0.25))\n",
    "model4.add(Flatten())\n",
    "model4.add(Dense(64, activation='relu'))\n",
    "model4.add(Dropout(0.5))\n",
    "model4.add(Dense(2, activation='softmax'))\n",
    "\n",
    "print(model4.summary())"
   ]
  },
  {
   "cell_type": "code",
   "execution_count": 9,
   "id": "778901eb",
   "metadata": {},
   "outputs": [],
   "source": [
    "ann_viz(model4, view=True, filename = \"methodCharacterCNN\", title=\"CNN for Character Representation of Methods\")"
   ]
  },
  {
   "cell_type": "code",
   "execution_count": 75,
   "id": "92b3ab9d",
   "metadata": {},
   "outputs": [
    {
     "ename": "NameError",
     "evalue": "name 'plot' is not defined",
     "output_type": "error",
     "traceback": [
      "\u001b[1;31m---------------------------------------------------------------------------\u001b[0m",
      "\u001b[1;31mNameError\u001b[0m                                 Traceback (most recent call last)",
      "\u001b[1;32m~\\AppData\\Local\\Temp\\ipykernel_14200\\1713490200.py\u001b[0m in \u001b[0;36m<module>\u001b[1;34m\u001b[0m\n\u001b[1;32m----> 1\u001b[1;33m \u001b[0mplot\u001b[0m\u001b[1;33m(\u001b[0m\u001b[0mmodel\u001b[0m\u001b[1;33m)\u001b[0m\u001b[1;33m\u001b[0m\u001b[1;33m\u001b[0m\u001b[0m\n\u001b[0m",
      "\u001b[1;31mNameError\u001b[0m: name 'plot' is not defined"
     ]
    }
   ],
   "source": [
    "plot(model4)"
   ]
  },
  {
   "cell_type": "code",
   "execution_count": 73,
   "id": "10201cdb",
   "metadata": {},
   "outputs": [
    {
     "name": "stdout",
     "output_type": "stream",
     "text": [
      "Epoch 1/2\n",
      "26/26 [==============================] - 124s 5s/step - loss: 0.4970 - accuracy: 0.8085 - val_loss: 0.3963 - val_accuracy: 0.8164\n",
      "Epoch 2/2\n",
      "26/26 [==============================] - 114s 4s/step - loss: 0.3510 - accuracy: 0.8682 - val_loss: 0.3021 - val_accuracy: 0.8958\n",
      "Test loss: 0.3021220564842224\n",
      "Test accuracy: 0.8957816362380981\n"
     ]
    }
   ],
   "source": [
    "model4.compile(loss='categorical_crossentropy',\n",
    "              optimizer='adam',\n",
    "              metrics=['accuracy'])\n",
    "\n",
    "character_fit = model4.fit(x_characters_train4, y_characters_train4,\n",
    "          batch_size=batch_size,\n",
    "          epochs=epochs,\n",
    "          verbose=1,\n",
    "          validation_data=(x_characters_test4, y_characters_test4))\n",
    "character_score = model4.evaluate(x_characters_test4, y_characters_test4, verbose=0)\n",
    "print('Test loss:', character_score[0])\n",
    "print('Test accuracy:', character_score[1])"
   ]
  },
  {
   "cell_type": "code",
   "execution_count": 39,
   "id": "433a9659",
   "metadata": {},
   "outputs": [
    {
     "data": {
      "text/plain": [
       "<matplotlib.legend.Legend at 0x1bfe11f37c8>"
      ]
     },
     "execution_count": 39,
     "metadata": {},
     "output_type": "execute_result"
    },
    {
     "data": {
      "image/png": "[encoded data removed]",
      "text/plain": [
       "<Figure size 640x480 with 1 Axes>"
      ]
     },
     "metadata": {},
     "output_type": "display_data"
    }
   ],
   "source": [
    "plt.plot(character_fit.history['accuracy'], label='accuracy')\n",
    "plt.plot(character_fit.history['val_accuracy'], label = 'val_accuracy')\n",
    "plt.xlabel('Epoch')\n",
    "plt.ylabel('Accuracy')\n",
    "plt.ylim([0.5, 1])\n",
    "plt.legend(loc='lower right')"
   ]
  },
  {
   "cell_type": "code",
   "execution_count": 66,
   "id": "01ed1602",
   "metadata": {},
   "outputs": [
    {
     "data": {
      "text/plain": [
       "<matplotlib.legend.Legend at 0x1bfcd131b08>"
      ]
     },
     "execution_count": 66,
     "metadata": {},
     "output_type": "execute_result"
    },
    {
     "data": {
      "image/png": "[encoded data removed]",
      "text/plain": [
       "<Figure size 640x480 with 1 Axes>"
      ]
     },
     "metadata": {},
     "output_type": "display_data"
    }
   ],
   "source": [
    "plt.plot(character_fit.history['accuracy'], label='accuracy')\n",
    "plt.plot(character_fit.history['val_accuracy'], label = 'val_accuracy')\n",
    "plt.xlabel('Epoch')\n",
    "plt.ylabel('Accuracy')\n",
    "plt.ylim([0.5, 1])\n",
    "plt.legend(loc='lower right')"
   ]
  },
  {
   "cell_type": "markdown",
   "id": "5ee2d547",
   "metadata": {},
   "source": [
    "# Scalabrino Test"
   ]
  },
  {
   "cell_type": "code",
   "execution_count": 40,
   "id": "cc7165fe",
   "metadata": {},
   "outputs": [],
   "source": [
    "character_1best_files = []\n",
    "token_1best_files = []\n",
    "character_2mid_files = []\n",
    "token_2mid_files = []\n",
    "character_3mid_files = []\n",
    "token_3mid_files = []\n",
    "character_4worst_files = []\n",
    "token_4worst_files = []\n",
    "\n",
    "character_1best_file_path = r\"C:\\Users\\pauld\\PycharmProjects\\DeepCRMFYP\\Source Code\\Character\\Users\\pauld\\OneDrive\\Documents\\DSA\\FYP\\ScalabrinoDataset\\Ranked_Snippets\\4\"\n",
    "token_1best_file_path = r\"C:\\Users\\pauld\\PycharmProjects\\DeepCRMFYP\\Source Code\\Token\\Users\\pauld\\OneDrive\\Documents\\DSA\\FYP\\ScalabrinoDataset\\Ranked_Snippets\\4\"\n",
    "character_2mid_file_path = r\"C:\\Users\\pauld\\PycharmProjects\\DeepCRMFYP\\Source Code\\Character\\Users\\pauld\\OneDrive\\Documents\\DSA\\FYP\\ScalabrinoDataset\\Ranked_Snippets\\3\"\n",
    "token_2mid_file_path = r\"C:\\Users\\pauld\\PycharmProjects\\DeepCRMFYP\\Source Code\\Token\\Users\\pauld\\OneDrive\\Documents\\DSA\\FYP\\ScalabrinoDataset\\Ranked_Snippets\\3\"\n",
    "\n",
    "character_3mid_file_path = r\"C:\\Users\\pauld\\PycharmProjects\\DeepCRMFYP\\Source Code\\Character\\Users\\pauld\\OneDrive\\Documents\\DSA\\FYP\\ScalabrinoDataset\\Ranked_Snippets\\2\"\n",
    "token_3mid_file_path = r\"C:\\Users\\pauld\\PycharmProjects\\DeepCRMFYP\\Source Code\\Token\\Users\\pauld\\OneDrive\\Documents\\DSA\\FYP\\ScalabrinoDataset\\Ranked_Snippets\\2\"\n",
    "\n",
    "character_4worst_file_path = r\"C:\\Users\\pauld\\PycharmProjects\\DeepCRMFYP\\Source Code\\Character\\Users\\pauld\\OneDrive\\Documents\\DSA\\FYP\\ScalabrinoDataset\\Ranked_Snippets\\1\"\n",
    "token_4worst_file_path = r\"C:\\Users\\pauld\\PycharmProjects\\DeepCRMFYP\\Source Code\\Token\\Users\\pauld\\OneDrive\\Documents\\DSA\\FYP\\ScalabrinoDataset\\Ranked_Snippets\\1\"\n",
    "\n",
    "for parent, dirnames, filenames in os.walk(character_1best_file_path):\n",
    "    for filename in filenames:\n",
    "        character_1best_files.append(os.path.join(parent, filename))\n",
    "        \n",
    "for parent, dirnames, filenames in os.walk(token_1best_file_path):\n",
    "    for filename in filenames:\n",
    "        token_1best_files.append(os.path.join(parent, filename))\n",
    "        \n",
    "for parent, dirnames, filenames in os.walk(character_2mid_file_path):\n",
    "    for filename in filenames:\n",
    "        character_2mid_files.append(os.path.join(parent, filename))\n",
    "        \n",
    "for parent, dirnames, filenames in os.walk(token_2mid_file_path):\n",
    "    for filename in filenames:\n",
    "        token_2mid_files.append(os.path.join(parent, filename))\n",
    "\n",
    "for parent, dirnames, filenames in os.walk(character_3mid_file_path):\n",
    "    for filename in filenames:\n",
    "        character_3mid_files.append(os.path.join(parent, filename))\n",
    "        \n",
    "for parent, dirnames, filenames in os.walk(token_3mid_file_path):\n",
    "    for filename in filenames:\n",
    "        token_3mid_files.append(os.path.join(parent, filename))\n",
    "        \n",
    "for parent, dirnames, filenames in os.walk(character_4worst_file_path):\n",
    "    for filename in filenames:\n",
    "        character_4worst_files.append(os.path.join(parent, filename))\n",
    "        \n",
    "for parent, dirnames, filenames in os.walk(token_4worst_file_path):\n",
    "    for filename in filenames:\n",
    "        token_4worst_files.append(os.path.join(parent, filename))\n",
    "\n"
   ]
  },
  {
   "cell_type": "code",
   "execution_count": 41,
   "id": "604e087f",
   "metadata": {},
   "outputs": [],
   "source": [
    "def matrixFileToMatrix(files, matrixList):\n",
    "    for file in files:\n",
    "        matrix = []\n",
    "        with open(file, 'r') as f:\n",
    "            matrix = [[int(num) for num in line.split(',') if num != \"\\n\"] for line in f ]\n",
    "        matrixList.append(np.array(matrix))"
   ]
  },
  {
   "cell_type": "code",
   "execution_count": 42,
   "id": "3fc46350",
   "metadata": {},
   "outputs": [
    {
     "name": "stdout",
     "output_type": "stream",
     "text": [
      "done\n",
      "done\n",
      "done\n"
     ]
    }
   ],
   "source": [
    "best1_input_chars = []\n",
    "mid2_input_chars = []\n",
    "mid3_input_chars = []\n",
    "worst4_input_chars = []\n",
    "best1_input_tokens = []\n",
    "mid2_input_tokens = []\n",
    "mid3_input_tokens = []\n",
    "worst4_input_tokens = []\n",
    "\n",
    "\n",
    "matrixFileToMatrix(character_1best_files, best1_input_chars)\n",
    "matrixFileToMatrix(token_1best_files, best1_input_tokens)\n",
    "\n",
    "print(\"done\")\n",
    "\n",
    "#matrixFileToMatrix(character_2mid_files, mid2_input_chars)\n",
    "#matrixFileToMatrix(token_2mid_files, mid2_input_tokens)\n",
    "\n",
    "print(\"done\")\n",
    "\n",
    "#matrixFileToMatrix(character_3mid_files, mid3_input_chars)\n",
    "#matrixFileToMatrix(token_3mid_files, mid3_input_tokens)\n",
    "\n",
    "print(\"done\")\n",
    "\n",
    "matrixFileToMatrix(character_4worst_files, worst4_input_chars)\n",
    "matrixFileToMatrix(token_4worst_files, worst4_input_tokens)"
   ]
  },
  {
   "cell_type": "code",
   "execution_count": 43,
   "id": "f850f4d0",
   "metadata": {},
   "outputs": [],
   "source": [
    "scala_input4_characters_x = []\n",
    "scala_input4_characters_y = []\n",
    "\n",
    "scala_input4_tokens_x = []\n",
    "scala_input4_tokens_y = []\n",
    "\n",
    "for x in best1_input_chars:\n",
    "    scala_input4_characters_x.append(x)\n",
    "    scala_input4_characters_y.append([0,1])\n",
    "\n",
    "#for x in mid2_input_chars:\n",
    " #   input4_characters_x.append(x)\n",
    "  #  input4_characters_y.append([0,0,1,0])\n",
    "    \n",
    "#for x in mid3_input_chars:\n",
    " #   input4_characters_x.append(x)\n",
    "  #  input4_characters_y.append([0,1,0,0])\n",
    "\n",
    "for x in worst4_input_chars:\n",
    "    scala_input4_characters_x.append(x)\n",
    "    scala_input4_characters_y.append([1,0])\n",
    "\n",
    "\n",
    "\n",
    "for x in best1_input_tokens:\n",
    "    scala_input4_tokens_x.append(x)\n",
    "    scala_input4_tokens_y.append([0, 1])\n",
    "\n",
    "#for x in mid2_input_tokens:\n",
    " #   input4_tokens_x.append(x)\n",
    "  #  input4_tokens_y.append([0,0,1,0])\n",
    "\n",
    "#for x in mid3_input_tokens:\n",
    " #   input4_tokens_x.append(x)\n",
    "  #  input4_tokens_y.append([0,1,0,0])\n",
    "\n",
    "for x in worst4_input_tokens:\n",
    "    scala_input4_tokens_x.append(x)\n",
    "    scala_input4_tokens_y.append([1,0])"
   ]
  },
  {
   "cell_type": "code",
   "execution_count": 44,
   "id": "7c038a1d",
   "metadata": {},
   "outputs": [],
   "source": [
    "scala_input4_characters_x = np.array(scala_input4_characters_x)\n",
    "scala_input4_characters_y = np.array(scala_input4_characters_y)\n",
    "\n",
    "scala_input4_tokens_x = np.array(scala_input4_tokens_x)\n",
    "scala_input4_tokens_y = np.array(scala_input4_tokens_y)"
   ]
  },
  {
   "cell_type": "code",
   "execution_count": 45,
   "id": "e4a99f94",
   "metadata": {},
   "outputs": [
    {
     "name": "stdout",
     "output_type": "stream",
     "text": [
      "(111, 50, 754)\n",
      "(111, 2)\n",
      "(111, 50, 754)\n",
      "(111, 2)\n"
     ]
    }
   ],
   "source": [
    "print(scala_input4_characters_x.shape)\n",
    "print(scala_input4_characters_y.shape)\n",
    "\n",
    "print(scala_input4_tokens_x.shape)\n",
    "print(scala_input4_tokens_y.shape)"
   ]
  },
  {
   "cell_type": "code",
   "execution_count": 46,
   "id": "d4d12c62",
   "metadata": {},
   "outputs": [
    {
     "name": "stdout",
     "output_type": "stream",
     "text": [
      "Test loss: 1.6039706468582153\n",
      "Test accuracy: 0.5405405163764954\n"
     ]
    }
   ],
   "source": [
    "character_score = model4.evaluate(scala_input4_characters_x, scala_input4_characters_y, verbose=0)\n",
    "print('Test loss:', character_score[0])\n",
    "print('Test accuracy:', character_score[1])"
   ]
  },
  {
   "cell_type": "code",
   "execution_count": 47,
   "id": "132352f3",
   "metadata": {},
   "outputs": [],
   "source": [
    "x_characters_train4, x_characters_test4, y_characters_train4, y_characters_test4 = train_test_split(\n",
    "    scala_input4_characters_x, scala_input4_characters_y, test_size = 0.2, random_state=24)"
   ]
  },
  {
   "cell_type": "code",
   "execution_count": 48,
   "id": "92957753",
   "metadata": {},
   "outputs": [
    {
     "name": "stdout",
     "output_type": "stream",
     "text": [
      "Epoch 1/2\n",
      "2/2 [==============================] - 10s 3s/step - loss: 1.8224 - accuracy: 0.4773 - val_loss: 0.7871 - val_accuracy: 0.3913\n",
      "Epoch 2/2\n",
      "2/2 [==============================] - 8s 2s/step - loss: 0.7826 - accuracy: 0.4545 - val_loss: 0.7836 - val_accuracy: 0.3478\n",
      "Test loss: 0.7836108207702637\n",
      "Test accuracy: 0.3478260934352875\n"
     ]
    }
   ],
   "source": [
    "model4.compile(loss='categorical_crossentropy',\n",
    "              optimizer='adam',\n",
    "              metrics=['accuracy'])\n",
    "\n",
    "scala_character_fit = model4.fit(x_characters_train4, y_characters_train4,\n",
    "          batch_size=batch_size,\n",
    "          epochs=epochs,\n",
    "          verbose=1,\n",
    "          validation_data=(x_characters_test4, y_characters_test4))\n",
    "character_score = model4.evaluate(x_characters_test4, y_characters_test4, verbose=0)\n",
    "print('Test loss:', character_score[0])\n",
    "print('Test accuracy:', character_score[1])"
   ]
  },
  {
   "cell_type": "code",
   "execution_count": null,
   "id": "425a446f",
   "metadata": {},
   "outputs": [],
   "source": []
  }
 ],
 "metadata": {
  "kernelspec": {
   "display_name": "Python 3 (ipykernel)",
   "language": "python",
   "name": "python3"
  },
  "language_info": {
   "codemirror_mode": {
    "name": "ipython",
    "version": 3
   },
   "file_extension": ".py",
   "mimetype": "text/x-python",
   "name": "python",
   "nbconvert_exporter": "python",
   "pygments_lexer": "ipython3",
   "version": "3.7.13"
  }
 },
 "nbformat": 4,
 "nbformat_minor": 5
}
