{
 "cells": [
  {
   "cell_type": "code",
   "execution_count": 1,
   "id": "9de20c90",
   "metadata": {},
   "outputs": [],
   "source": [
    "import os\n",
    "\n",
    "os.environ['KMP_DUPLICATE_LIB_OK']='True'"
   ]
  },
  {
   "cell_type": "code",
   "execution_count": 13,
   "id": "b9931ae9",
   "metadata": {},
   "outputs": [],
   "source": [
    "import tensorflow as tf\n",
    "\n",
    "from tensorflow import keras\n",
    "\n",
    "from keras.models import Sequential\n",
    "from keras.layers import Dense, Dropout, Flatten\n",
    "from keras.layers import Conv2D, MaxPooling2D\n",
    "\n",
    "from tensorflow.keras import datasets, layers, models\n",
    "\n",
    "import matplotlib.pyplot as plt\n",
    "\n",
    "import numpy as np\n",
    "\n",
    "import os\n",
    "\n",
    "from sklearn.utils import shuffle\n",
    "from sklearn.model_selection import train_test_split"
   ]
  },
  {
   "cell_type": "code",
   "execution_count": 3,
   "id": "f505df8e",
   "metadata": {},
   "outputs": [],
   "source": [
    "character_readable_files = []\n",
    "token_readable_files = []\n",
    "character_unreadable_files = []\n",
    "token_unreadable_files = []\n",
    "\n",
    "character_readable_file_path = r\"C:\\Users\\pauld\\PycharmProjects\\DeepCRMFYP\\Source Code\\Character\\Users\\pauld\\Downloads\\FYPData-main\\FYPData-main\\results_readable\\results_readable\"\n",
    "token_readable_file_path = r\"C:\\Users\\pauld\\PycharmProjects\\DeepCRMFYP\\Source Code\\Token\\Users\\pauld\\Downloads\\FYPData-main\\FYPData-main\\results_readable\\results_readable\"\n",
    "character_unreadable_file_path = r\"C:\\Users\\pauld\\PycharmProjects\\DeepCRMFYP\\Source Code\\Character\\Users\\pauld\\Downloads\\FYPData-main\\FYPData-main\\results_unreadable\\results_unreadable\"\n",
    "token_unreadable_file_path = r\"C:\\Users\\pauld\\PycharmProjects\\DeepCRMFYP\\Source Code\\Token\\Users\\pauld\\Downloads\\FYPData-main\\FYPData-main\\results_unreadable\\results_unreadable\"\n",
    "\n",
    "readable_input_chars = []\n",
    "unreadable_input_chars = []\n",
    "readable_input_tokens = []\n",
    "unreadable_input_tokens = []\n",
    "\n",
    "for parent, dirnames, filenames in os.walk(character_readable_file_path):\n",
    "    for filename in filenames:\n",
    "        character_readable_files.append(os.path.join(parent, filename))\n",
    "        \n",
    "for parent, dirnames, filenames in os.walk(token_readable_file_path):\n",
    "    for filename in filenames:\n",
    "        token_readable_files.append(os.path.join(parent, filename))\n",
    "        \n",
    "for parent, dirnames, filenames in os.walk(character_unreadable_file_path):\n",
    "    for filename in filenames:\n",
    "        character_unreadable_files.append(os.path.join(parent, filename))\n",
    "        \n",
    "for parent, dirnames, filenames in os.walk(token_unreadable_file_path):\n",
    "    for filename in filenames:\n",
    "        token_unreadable_files.append(os.path.join(parent, filename))\n",
    "\n"
   ]
  },
  {
   "cell_type": "code",
   "execution_count": 4,
   "id": "ab23a692",
   "metadata": {},
   "outputs": [],
   "source": [
    "for file in character_readable_files:\n",
    "    #input_file_object = open(file, 'r')\n",
    "    #f = input_file_object.readlines()[:-1]\n",
    "    matrix = []\n",
    "    #for line in f:\n",
    "     #   entries = []\n",
    "      #  for num in line.split(','):\n",
    "       #     if num != \"\\n\":\n",
    "        #        entries.append(int(num))\n",
    "        #matrix.append(entries)\n",
    "    with open(file, 'r') as f:\n",
    "        matrix = [[int(num) for num in line.split(',') if num != \"\\n\"] for line in f ]\n",
    "    readable_input_chars.append(np.array(matrix))\n",
    "    #readable_input_chars.append(np.loadtxt(file, dtype='i', delimiter=','))\n",
    "    \n",
    "for file in token_readable_files:\n",
    "    #input_file_object = open(file, 'r')\n",
    "    #f = input_file_object.readlines()\n",
    "    matrix = []\n",
    "    #for line in f:\n",
    "     #   entries = []\n",
    "      #  for num in line.split(','):\n",
    "       #     if num != \"\\n\":\n",
    "        #        entries.append(int(num))\n",
    "        #matrix.append(entries)\n",
    "    with open(file, 'r') as f:\n",
    "        matrix = [[int(num) for num in line.split(',') if num != \"\\n\"] for line in f]\n",
    "    readable_input_tokens.append(np.array(matrix))\n",
    "    #readable_input_tokens.append(np.loadtxt(file, dtype='i', delimiter=','))\n",
    "\n",
    "for file in character_unreadable_files:\n",
    "    #input_file_object = open(file, 'r')\n",
    "    #f = input_file_object.readlines()\n",
    "    matrix = []\n",
    "    #for line in f:\n",
    "     #   entries = []\n",
    "      #  for num in line.split(','):\n",
    "       #     if num != \"\\n\":\n",
    "        #        entries.append(int(num))\n",
    "        #matrix.append(entries)\n",
    "    with open(file, 'r') as f:\n",
    "        matrix = [[int(num) for num in line.split(',') if num != \"\\n\"] for line in f if line.strip() != \"\" ]\n",
    "    unreadable_input_chars.append(np.array(matrix))    \n",
    "    #unreadable_input_chars.append(np.loadtxt(file, dtype='i', delimiter=','))\n",
    "\n",
    "for file in token_unreadable_files:\n",
    "    #input_file_object = open(file, 'r')\n",
    "    #f = input_file_object.readlines()\n",
    "    matrix = []\n",
    "    #for line in f:\n",
    "     #   entries = []\n",
    "      #  for num in line.split(','):\n",
    "       #     if num != \"\\n\":\n",
    "        #        entries.append(int(num))\n",
    "        #matrix.append(entries)\n",
    "    with open(file, 'r') as f:\n",
    "        matrix = [[int(num) for num in line.split(',') if num != \"\\n\"] for line in f]\n",
    "    unreadable_input_tokens.append(np.array(matrix))    \n",
    "    #unreadable_input_tokens.append(np.loadtxt(file, dtype='i', delimiter=','))"
   ]
  },
  {
   "cell_type": "code",
   "execution_count": 16,
   "id": "484793b1",
   "metadata": {},
   "outputs": [
    {
     "name": "stdout",
     "output_type": "stream",
     "text": [
      "(50, 354)\n"
     ]
    }
   ],
   "source": [
    "readable_input = []\n",
    "unreadable_input = []\n",
    "\n",
    "print(np.array(readable_input_tokens[0]).shape)\n",
    "\n",
    "for char_array, token_array in zip(readable_input_chars, readable_input_tokens):\n",
    "    readable_input.append(np.stack([np.array(char_array), np.array(token_array)],axis=-1))\n",
    "    \n",
    "      \n",
    "for char_array, token_array in zip(unreadable_input_chars, unreadable_input_tokens):\n",
    "    unreadable_input.append(np.stack([np.array(char_array), np.array(token_array)], axis=-1))\n",
    "    "
   ]
  },
  {
   "cell_type": "code",
   "execution_count": 36,
   "id": "f6b089ea",
   "metadata": {},
   "outputs": [],
   "source": [
    "input_x = []\n",
    "input_y = []\n",
    "\n",
    "for x in readable_input:\n",
    "    input_x.append(x)\n",
    "    input_y.append([0,1])\n",
    "\n",
    "for x in unreadable_input:\n",
    "    input_x.append(x)\n",
    "    input_y.append([1,0])"
   ]
  },
  {
   "cell_type": "code",
   "execution_count": 37,
   "id": "be43afb0",
   "metadata": {},
   "outputs": [],
   "source": [
    "input_x = np.array(input_x)\n",
    "input_y = np.array(input_y)"
   ]
  },
  {
   "cell_type": "code",
   "execution_count": 38,
   "id": "5222b9d8",
   "metadata": {},
   "outputs": [
    {
     "name": "stdout",
     "output_type": "stream",
     "text": [
      "(6127, 50, 354, 2)\n",
      "(6127, 2)\n"
     ]
    }
   ],
   "source": [
    "print(input_x.shape)\n",
    "print(input_y.shape)"
   ]
  },
  {
   "cell_type": "code",
   "execution_count": 41,
   "id": "933f59b6",
   "metadata": {},
   "outputs": [],
   "source": [
    "input_x, input_y = shuffle(input_x, input_y, random_state=0)"
   ]
  },
  {
   "cell_type": "code",
   "execution_count": 42,
   "id": "746fba6d",
   "metadata": {},
   "outputs": [],
   "source": [
    "x_train, x_test, y_train, y_test = train_test_split(input_x, input_y, test_size = 0.2, random_state=24)"
   ]
  },
  {
   "cell_type": "code",
   "execution_count": 49,
   "id": "9e8cfa86",
   "metadata": {},
   "outputs": [
    {
     "name": "stdout",
     "output_type": "stream",
     "text": [
      "Model: \"sequential_13\"\n",
      "_________________________________________________________________\n",
      " Layer (type)                Output Shape              Param #   \n",
      "=================================================================\n",
      " conv2d_33 (Conv2D)          (None, 48, 352, 32)       608       \n",
      "                                                                 \n",
      " conv2d_34 (Conv2D)          (None, 46, 350, 64)       18496     \n",
      "                                                                 \n",
      " max_pooling2d_20 (MaxPoolin  (None, 23, 175, 64)      0         \n",
      " g2D)                                                            \n",
      "                                                                 \n",
      " dropout_8 (Dropout)         (None, 23, 175, 64)       0         \n",
      "                                                                 \n",
      " flatten_9 (Flatten)         (None, 257600)            0         \n",
      "                                                                 \n",
      " dense_16 (Dense)            (None, 128)               32972928  \n",
      "                                                                 \n",
      " dropout_9 (Dropout)         (None, 128)               0         \n",
      "                                                                 \n",
      " dense_17 (Dense)            (None, 2)                 258       \n",
      "                                                                 \n",
      "=================================================================\n",
      "Total params: 32,992,290\n",
      "Trainable params: 32,992,290\n",
      "Non-trainable params: 0\n",
      "_________________________________________________________________\n",
      "None\n"
     ]
    }
   ],
   "source": [
    "batch_size = 128\n",
    "epochs = 3\n",
    "\n",
    "model = Sequential()\n",
    "model.add(Conv2D(32, kernel_size=(3, 3),\n",
    "                 activation='relu',\n",
    "                 input_shape=(50,354,2)))\n",
    "model.add(Conv2D(64, (3, 3), activation='relu'))\n",
    "model.add(MaxPooling2D(pool_size=(2, 2)))\n",
    "model.add(Dropout(0.25))\n",
    "model.add(Flatten())\n",
    "model.add(Dense(128, activation='relu'))\n",
    "model.add(Dropout(0.5))\n",
    "model.add(Dense(2, activation='softmax'))\n",
    "\n",
    "print(model.summary())"
   ]
  },
  {
   "cell_type": "code",
   "execution_count": 47,
   "id": "5b84d04d",
   "metadata": {},
   "outputs": [
    {
     "name": "stdout",
     "output_type": "stream",
     "text": [
      "Model: \"sequential_12\"\n",
      "_________________________________________________________________\n",
      " Layer (type)                Output Shape              Param #   \n",
      "=================================================================\n",
      " conv2d_30 (Conv2D)          (None, 48, 352, 32)       608       \n",
      "                                                                 \n",
      " max_pooling2d_18 (MaxPoolin  (None, 24, 176, 32)      0         \n",
      " g2D)                                                            \n",
      "                                                                 \n",
      " conv2d_31 (Conv2D)          (None, 22, 174, 64)       18496     \n",
      "                                                                 \n",
      " max_pooling2d_19 (MaxPoolin  (None, 11, 87, 64)       0         \n",
      " g2D)                                                            \n",
      "                                                                 \n",
      " conv2d_32 (Conv2D)          (None, 9, 85, 64)         36928     \n",
      "                                                                 \n",
      " flatten_8 (Flatten)         (None, 48960)             0         \n",
      "                                                                 \n",
      " dense_14 (Dense)            (None, 64)                3133504   \n",
      "                                                                 \n",
      " dense_15 (Dense)            (None, 2)                 130       \n",
      "                                                                 \n",
      "=================================================================\n",
      "Total params: 3,189,666\n",
      "Trainable params: 3,189,666\n",
      "Non-trainable params: 0\n",
      "_________________________________________________________________\n",
      "None\n"
     ]
    }
   ],
   "source": [
    "batch_size = 128\n",
    "epochs = 3\n",
    "\n",
    "model = models.Sequential()\n",
    "model.add(layers.Conv2D(32, (3, 3), activation='relu', input_shape=(50, 354, 2)))\n",
    "model.add(layers.MaxPooling2D((2, 2)))\n",
    "model.add(layers.Conv2D(64, (3, 3), activation='relu'))\n",
    "model.add(layers.MaxPooling2D((2, 2)))\n",
    "model.add(layers.Conv2D(64, (3, 3), activation='relu'))\n",
    "model.add(Flatten())\n",
    "model.add(layers.Dense(64, activation='relu'))\n",
    "model.add(layers.Dense(2))\n",
    "print(model.summary())"
   ]
  },
  {
   "cell_type": "code",
   "execution_count": 50,
   "id": "a579fd9c",
   "metadata": {},
   "outputs": [
    {
     "name": "stdout",
     "output_type": "stream",
     "text": [
      "Epoch 1/3\n",
      "39/39 [==============================] - 207s 5s/step - loss: 12.4044 - accuracy: 0.9147 - val_loss: 0.2180 - val_accuracy: 0.9674\n",
      "Epoch 2/3\n",
      "39/39 [==============================] - 234s 6s/step - loss: 0.1678 - accuracy: 0.9741 - val_loss: 0.1038 - val_accuracy: 0.9755\n",
      "Epoch 3/3\n",
      "39/39 [==============================] - 175s 4s/step - loss: 0.0925 - accuracy: 0.9808 - val_loss: 0.0966 - val_accuracy: 0.9763\n",
      "Test loss: 0.09662751108407974\n",
      "Test accuracy: 0.9763458371162415\n"
     ]
    }
   ],
   "source": [
    "model.compile(loss='categorical_crossentropy',\n",
    "              optimizer='adam',\n",
    "              metrics=['accuracy'])\n",
    "\n",
    "model.fit(x_train, y_train,\n",
    "          batch_size=batch_size,\n",
    "          epochs=epochs,\n",
    "          verbose=1,\n",
    "          validation_data=(x_test, y_test))\n",
    "score = model.evaluate(x_test, y_test, verbose=0)\n",
    "print('Test loss:', score[0])\n",
    "print('Test accuracy:', score[1])"
   ]
  },
  {
   "cell_type": "code",
   "execution_count": 54,
   "id": "a63ec713",
   "metadata": {},
   "outputs": [],
   "source": [
    "character_readable_files = []\n",
    "token_readable_files = []\n",
    "character_unreadable_files = []\n",
    "token_unreadable_files = []\n",
    "\n",
    "character_readable_file_path = r\"C:\\Users\\pauld\\PycharmProjects\\DeepCRMFYP\\Source Code\\Character\\Users\\pauld\\OneDrive\\Documents\\DSA\\FYP\\ScalabrinoDataset\\Ranked_Snippets\\Readable_scalabrino\"\n",
    "token_readable_file_path = r\"C:\\Users\\pauld\\PycharmProjects\\DeepCRMFYP\\Source Code\\Token\\Users\\pauld\\OneDrive\\Documents\\DSA\\FYP\\ScalabrinoDataset\\Ranked_Snippets\\Readable_scalabrino\"\n",
    "character_unreadable_file_path = r\"C:\\Users\\pauld\\PycharmProjects\\DeepCRMFYP\\Source Code\\Character\\Users\\pauld\\OneDrive\\Documents\\DSA\\FYP\\ScalabrinoDataset\\Ranked_Snippets\\Unreadable_scalabrino\"\n",
    "token_unreadable_file_path = r\"C:\\Users\\pauld\\PycharmProjects\\DeepCRMFYP\\Source Code\\Token\\Users\\pauld\\OneDrive\\Documents\\DSA\\FYP\\ScalabrinoDataset\\Ranked_Snippets\\Unreadable_scalabrino\"\n",
    "\n",
    "readable_input_chars = []\n",
    "unreadable_input_chars = []\n",
    "readable_input_tokens = []\n",
    "unreadable_input_tokens = []\n",
    "\n",
    "for parent, dirnames, filenames in os.walk(character_readable_file_path):\n",
    "    for filename in filenames:\n",
    "        character_readable_files.append(os.path.join(parent, filename))\n",
    "        \n",
    "for parent, dirnames, filenames in os.walk(token_readable_file_path):\n",
    "    for filename in filenames:\n",
    "        token_readable_files.append(os.path.join(parent, filename))\n",
    "        \n",
    "for parent, dirnames, filenames in os.walk(character_unreadable_file_path):\n",
    "    for filename in filenames:\n",
    "        character_unreadable_files.append(os.path.join(parent, filename))\n",
    "        \n",
    "for parent, dirnames, filenames in os.walk(token_unreadable_file_path):\n",
    "    for filename in filenames:\n",
    "        token_unreadable_files.append(os.path.join(parent, filename))\n",
    "\n"
   ]
  },
  {
   "cell_type": "code",
   "execution_count": 55,
   "id": "86fc4502",
   "metadata": {},
   "outputs": [],
   "source": [
    "for file in character_readable_files:\n",
    "    #input_file_object = open(file, 'r')\n",
    "    #f = input_file_object.readlines()[:-1]\n",
    "    matrix = []\n",
    "    #for line in f:\n",
    "     #   entries = []\n",
    "      #  for num in line.split(','):\n",
    "       #     if num != \"\\n\":\n",
    "        #        entries.append(int(num))\n",
    "        #matrix.append(entries)\n",
    "    with open(file, 'r') as f:\n",
    "        matrix = [[int(num) for num in line.split(',') if num != \"\\n\"] for line in f ]\n",
    "    readable_input_chars.append(np.array(matrix))\n",
    "    #readable_input_chars.append(np.loadtxt(file, dtype='i', delimiter=','))\n",
    "    \n",
    "for file in token_readable_files:\n",
    "    #input_file_object = open(file, 'r')\n",
    "    #f = input_file_object.readlines()\n",
    "    matrix = []\n",
    "    #for line in f:\n",
    "     #   entries = []\n",
    "      #  for num in line.split(','):\n",
    "       #     if num != \"\\n\":\n",
    "        #        entries.append(int(num))\n",
    "        #matrix.append(entries)\n",
    "    with open(file, 'r') as f:\n",
    "        matrix = [[int(num) for num in line.split(',') if num != \"\\n\"] for line in f]\n",
    "    readable_input_tokens.append(np.array(matrix))\n",
    "    #readable_input_tokens.append(np.loadtxt(file, dtype='i', delimiter=','))\n",
    "\n",
    "for file in character_unreadable_files:\n",
    "    #input_file_object = open(file, 'r')\n",
    "    #f = input_file_object.readlines()\n",
    "    matrix = []\n",
    "    #for line in f:\n",
    "     #   entries = []\n",
    "      #  for num in line.split(','):\n",
    "       #     if num != \"\\n\":\n",
    "        #        entries.append(int(num))\n",
    "        #matrix.append(entries)\n",
    "    with open(file, 'r') as f:\n",
    "        matrix = [[int(num) for num in line.split(',') if num != \"\\n\"] for line in f if line.strip() != \"\" ]\n",
    "    unreadable_input_chars.append(np.array(matrix))    \n",
    "    #unreadable_input_chars.append(np.loadtxt(file, dtype='i', delimiter=','))\n",
    "\n",
    "for file in token_unreadable_files:\n",
    "    #input_file_object = open(file, 'r')\n",
    "    #f = input_file_object.readlines()\n",
    "    matrix = []\n",
    "    #for line in f:\n",
    "     #   entries = []\n",
    "      #  for num in line.split(','):\n",
    "       #     if num != \"\\n\":\n",
    "        #        entries.append(int(num))\n",
    "        #matrix.append(entries)\n",
    "    with open(file, 'r') as f:\n",
    "        matrix = [[int(num) for num in line.split(',') if num != \"\\n\"] for line in f]\n",
    "    unreadable_input_tokens.append(np.array(matrix))    \n",
    "    #unreadable_input_tokens.append(np.loadtxt(file, dtype='i', delimiter=','))"
   ]
  },
  {
   "cell_type": "code",
   "execution_count": 56,
   "id": "a4978e36",
   "metadata": {},
   "outputs": [
    {
     "name": "stdout",
     "output_type": "stream",
     "text": [
      "(50, 354)\n"
     ]
    }
   ],
   "source": [
    "readable_input = []\n",
    "unreadable_input = []\n",
    "\n",
    "print(np.array(readable_input_tokens[0]).shape)\n",
    "\n",
    "for char_array, token_array in zip(readable_input_chars, readable_input_tokens):\n",
    "    readable_input.append(np.stack([np.array(char_array), np.array(token_array)],axis=-1))\n",
    "    \n",
    "      \n",
    "for char_array, token_array in zip(unreadable_input_chars, unreadable_input_tokens):\n",
    "    unreadable_input.append(np.stack([np.array(char_array), np.array(token_array)], axis=-1))\n",
    "    "
   ]
  },
  {
   "cell_type": "code",
   "execution_count": 57,
   "id": "b61c8490",
   "metadata": {},
   "outputs": [],
   "source": [
    "input_x = []\n",
    "input_y = []\n",
    "\n",
    "for x in readable_input:\n",
    "    input_x.append(x)\n",
    "    input_y.append([0,1])\n",
    "\n",
    "for x in unreadable_input:\n",
    "    input_x.append(x)\n",
    "    input_y.append([1,0])"
   ]
  },
  {
   "cell_type": "code",
   "execution_count": 58,
   "id": "0af53661",
   "metadata": {},
   "outputs": [],
   "source": [
    "input_x = np.array(input_x)\n",
    "input_y = np.array(input_y)"
   ]
  },
  {
   "cell_type": "code",
   "execution_count": 59,
   "id": "80ba4805",
   "metadata": {},
   "outputs": [
    {
     "name": "stdout",
     "output_type": "stream",
     "text": [
      "(99, 50, 354, 2)\n",
      "(99, 2)\n"
     ]
    }
   ],
   "source": [
    "print(input_x.shape)\n",
    "print(input_y.shape)"
   ]
  },
  {
   "cell_type": "code",
   "execution_count": 60,
   "id": "1337cdbf",
   "metadata": {},
   "outputs": [],
   "source": [
    "input_x, input_y = shuffle(input_x, input_y, random_state=0)"
   ]
  },
  {
   "cell_type": "code",
   "execution_count": 61,
   "id": "1e8885eb",
   "metadata": {},
   "outputs": [
    {
     "name": "stdout",
     "output_type": "stream",
     "text": [
      "Test loss: 7.615336894989014\n",
      "Test accuracy: 0.6060606241226196\n"
     ]
    }
   ],
   "source": [
    "score = model.evaluate(input_x, input_y, verbose=0)\n",
    "print('Test loss:', score[0])\n",
    "print('Test accuracy:', score[1])"
   ]
  },
  {
   "cell_type": "code",
   "execution_count": null,
   "id": "ad61cb14",
   "metadata": {},
   "outputs": [],
   "source": []
  }
 ],
 "metadata": {
  "kernelspec": {
   "display_name": "Python 3 (ipykernel)",
   "language": "python",
   "name": "python3"
  },
  "language_info": {
   "codemirror_mode": {
    "name": "ipython",
    "version": 3
   },
   "file_extension": ".py",
   "mimetype": "text/x-python",
   "name": "python",
   "nbconvert_exporter": "python",
   "pygments_lexer": "ipython3",
   "version": "3.7.13"
  }
 },
 "nbformat": 4,
 "nbformat_minor": 5
}
