{
 "cells": [
  {
   "cell_type": "code",
   "execution_count": 1,
   "id": "04433fc5",
   "metadata": {},
   "outputs": [],
   "source": [
    "import os\n",
    "\n",
    "os.environ['KMP_DUPLICATE_LIB_OK']='True'"
   ]
  },
  {
   "cell_type": "code",
   "execution_count": 22,
   "id": "3b78ed5e",
   "metadata": {},
   "outputs": [],
   "source": [
    "import tensorflow as tf\n",
    "\n",
    "import random\n",
    "\n",
    "from keras import Model\n",
    "\n",
    "from tensorflow import keras\n",
    "\n",
    "from keras.models import Sequential\n",
    "from keras.layers import Dense, Dropout, Flatten, Input, Concatenate\n",
    "from keras.layers import Conv2D, MaxPooling2D\n",
    "\n",
    "from tensorflow.keras import datasets, layers, models\n",
    "\n",
    "import matplotlib.pyplot as plt\n",
    "\n",
    "import numpy as np\n",
    "\n",
    "import os\n",
    "\n",
    "from sklearn.utils import shuffle\n",
    "from sklearn.model_selection import train_test_split\n",
    "from ann_visualizer.visualize import ann_viz\n",
    "from sklearn.metrics import confusion_matrix"
   ]
  },
  {
   "cell_type": "code",
   "execution_count": 3,
   "id": "efd76926",
   "metadata": {},
   "outputs": [],
   "source": [
    "character_1best_files = []\n",
    "token_1best_files = []\n",
    "character_2mid_files = []\n",
    "token_2mid_files = []\n",
    "character_3mid_files = []\n",
    "token_3mid_files = []\n",
    "character_4worst_files = []\n",
    "token_4worst_files = []\n",
    "\n",
    "character_1best_file_path = r\"C:\\Users\\pauld\\PycharmProjects\\DeepCRMFYP\\Source Code\\Character\\Users\\pauld\\PycharmProjects\\DeepCRMFYP\\RankedMethods\\results_1best\"\n",
    "token_1best_file_path = r\"C:\\Users\\pauld\\PycharmProjects\\DeepCRMFYP\\Source Code\\Token\\Users\\pauld\\PycharmProjects\\DeepCRMFYP\\RankedMethods\\results_1best\"\n",
    "\n",
    "character_2mid_file_path = r\"C:\\Users\\pauld\\PycharmProjects\\DeepCRMFYP\\Source Code\\Character\\Users\\pauld\\PycharmProjects\\DeepCRMFYP\\RankedMethods\\results_2mid\"\n",
    "token_2mid_file_path = r\"C:\\Users\\pauld\\PycharmProjects\\DeepCRMFYP\\Source Code\\Token\\Users\\pauld\\PycharmProjects\\DeepCRMFYP\\RankedMethods\\results_2mid\"\n",
    "\n",
    "character_3mid_file_path = r\"C:\\Users\\pauld\\PycharmProjects\\DeepCRMFYP\\Source Code\\Character\\Users\\pauld\\PycharmProjects\\DeepCRMFYP\\RankedMethods\\results_3mid\"\n",
    "token_3mid_file_path = r\"C:\\Users\\pauld\\PycharmProjects\\DeepCRMFYP\\Source Code\\Token\\Users\\pauld\\PycharmProjects\\DeepCRMFYP\\RankedMethods\\results_3mid\"\n",
    "\n",
    "character_4worst_file_path = r\"C:\\Users\\pauld\\PycharmProjects\\DeepCRMFYP\\Source Code\\Character\\Users\\pauld\\PycharmProjects\\DeepCRMFYP\\RankedMethods\\results_4worst\"\n",
    "token_4worst_file_path = r\"C:\\Users\\pauld\\PycharmProjects\\DeepCRMFYP\\Source Code\\Token\\Users\\pauld\\PycharmProjects\\DeepCRMFYP\\RankedMethods\\results_4worst\"\n",
    "\n",
    "for parent, dirnames, filenames in os.walk(character_1best_file_path):\n",
    "    for filename in filenames:\n",
    "        character_1best_files.append(os.path.join(parent, filename))\n",
    "        \n",
    "for parent, dirnames, filenames in os.walk(token_1best_file_path):\n",
    "    for filename in filenames:\n",
    "        token_1best_files.append(os.path.join(parent, filename))\n",
    "        \n",
    "for parent, dirnames, filenames in os.walk(character_2mid_file_path):\n",
    "    for filename in filenames:\n",
    "        character_2mid_files.append(os.path.join(parent, filename))\n",
    "        \n",
    "for parent, dirnames, filenames in os.walk(token_2mid_file_path):\n",
    "    for filename in filenames:\n",
    "        token_2mid_files.append(os.path.join(parent, filename))\n",
    "\n",
    "for parent, dirnames, filenames in os.walk(character_3mid_file_path):\n",
    "    for filename in filenames:\n",
    "        character_3mid_files.append(os.path.join(parent, filename))\n",
    "        \n",
    "for parent, dirnames, filenames in os.walk(token_3mid_file_path):\n",
    "    for filename in filenames:\n",
    "        token_3mid_files.append(os.path.join(parent, filename))\n",
    "        \n",
    "for parent, dirnames, filenames in os.walk(character_4worst_file_path):\n",
    "    for filename in filenames:\n",
    "        character_4worst_files.append(os.path.join(parent, filename))\n",
    "        \n",
    "for parent, dirnames, filenames in os.walk(token_4worst_file_path):\n",
    "    for filename in filenames:\n",
    "        token_4worst_files.append(os.path.join(parent, filename))"
   ]
  },
  {
   "cell_type": "code",
   "execution_count": 4,
   "id": "37a5f1ce",
   "metadata": {},
   "outputs": [],
   "source": [
    "def matrixFileToMatrix(files, matrixList):\n",
    "    for file in files:\n",
    "        matrix = []\n",
    "        with open(file, 'r') as f:\n",
    "            matrix = [[float(num) for num in line.split(',') if num != \"\\n\"][:754] for line in f ]\n",
    "        matrixList.append(np.array(matrix))"
   ]
  },
  {
   "cell_type": "code",
   "execution_count": 5,
   "id": "f261baf8",
   "metadata": {},
   "outputs": [],
   "source": [
    "random.seed(100)\n",
    "character_1best_files = random.sample(character_1best_files, k = 4000)\n",
    "random.seed(100)\n",
    "token_1best_files = random.sample(token_1best_files, k= 4000)\n",
    "#random.seed(100)\n",
    "#character_2mid_files = random.sample(character_2mid_files, k = 1500)\n",
    "#random.seed(100)\n",
    "#token_2mid_files = random.sample(token_2mid_files, k= 1500)\n",
    "#random.seed(100)\n",
    "#character_3mid_files = random.sample(character_3mid_files, k = 1500)\n",
    "#random.seed(100)\n",
    "#token_3mid_files = random.sample(token_3mid_files, k= 1500)\n",
    "random.seed(100)\n",
    "character_4worst_files = random.sample(character_4worst_files, k = 4000)\n",
    "random.seed(100)\n",
    "token_4worst_files = random.sample(token_4worst_files, k= 4000)"
   ]
  },
  {
   "cell_type": "code",
   "execution_count": 6,
   "id": "9a7b2197",
   "metadata": {},
   "outputs": [],
   "source": [
    "#Adding Scalabrino\n",
    "character_1best_file_path = r\"C:\\Users\\pauld\\PycharmProjects\\DeepCRMFYP\\Source Code\\Character\\Users\\pauld\\OneDrive\\Documents\\DSA\\FYP\\ScalabrinoDataset\\Ranked_Snippets\\4\"\n",
    "token_1best_file_path = r\"C:\\Users\\pauld\\PycharmProjects\\DeepCRMFYP\\Source Code\\Token\\Users\\pauld\\OneDrive\\Documents\\DSA\\FYP\\ScalabrinoDataset\\Ranked_Snippets\\4\"\n",
    "character_2mid_file_path = r\"C:\\Users\\pauld\\PycharmProjects\\DeepCRMFYP\\Source Code\\Character\\Users\\pauld\\OneDrive\\Documents\\DSA\\FYP\\ScalabrinoDataset\\Ranked_Snippets\\3\"\n",
    "token_2mid_file_path = r\"C:\\Users\\pauld\\PycharmProjects\\DeepCRMFYP\\Source Code\\Token\\Users\\pauld\\OneDrive\\Documents\\DSA\\FYP\\ScalabrinoDataset\\Ranked_Snippets\\3\"\n",
    "\n",
    "character_3mid_file_path = r\"C:\\Users\\pauld\\PycharmProjects\\DeepCRMFYP\\Source Code\\Character\\Users\\pauld\\OneDrive\\Documents\\DSA\\FYP\\ScalabrinoDataset\\Ranked_Snippets\\2\"\n",
    "token_3mid_file_path = r\"C:\\Users\\pauld\\PycharmProjects\\DeepCRMFYP\\Source Code\\Token\\Users\\pauld\\OneDrive\\Documents\\DSA\\FYP\\ScalabrinoDataset\\Ranked_Snippets\\2\"\n",
    "\n",
    "character_4worst_file_path = r\"C:\\Users\\pauld\\PycharmProjects\\DeepCRMFYP\\Source Code\\Character\\Users\\pauld\\OneDrive\\Documents\\DSA\\FYP\\ScalabrinoDataset\\Ranked_Snippets\\1\"\n",
    "token_4worst_file_path = r\"C:\\Users\\pauld\\PycharmProjects\\DeepCRMFYP\\Source Code\\Token\\Users\\pauld\\OneDrive\\Documents\\DSA\\FYP\\ScalabrinoDataset\\Ranked_Snippets\\1\"\n",
    "\n",
    "for parent, dirnames, filenames in os.walk(character_1best_file_path):\n",
    "    for filename in filenames:\n",
    "        character_1best_files.append(os.path.join(parent, filename))\n",
    "        \n",
    "for parent, dirnames, filenames in os.walk(token_1best_file_path):\n",
    "    for filename in filenames:\n",
    "        token_1best_files.append(os.path.join(parent, filename))\n",
    "        \n",
    "for parent, dirnames, filenames in os.walk(character_2mid_file_path):\n",
    "    for filename in filenames:\n",
    "        character_2mid_files.append(os.path.join(parent, filename))\n",
    "        \n",
    "for parent, dirnames, filenames in os.walk(token_2mid_file_path):\n",
    "    for filename in filenames:\n",
    "        token_2mid_files.append(os.path.join(parent, filename))\n",
    "\n",
    "for parent, dirnames, filenames in os.walk(character_3mid_file_path):\n",
    "    for filename in filenames:\n",
    "        character_3mid_files.append(os.path.join(parent, filename))\n",
    "        \n",
    "for parent, dirnames, filenames in os.walk(token_3mid_file_path):\n",
    "    for filename in filenames:\n",
    "        token_3mid_files.append(os.path.join(parent, filename))\n",
    "        \n",
    "for parent, dirnames, filenames in os.walk(character_4worst_file_path):\n",
    "    for filename in filenames:\n",
    "        character_4worst_files.append(os.path.join(parent, filename))\n",
    "        \n",
    "for parent, dirnames, filenames in os.walk(token_4worst_file_path):\n",
    "    for filename in filenames:\n",
    "        token_4worst_files.append(os.path.join(parent, filename))\n"
   ]
  },
  {
   "cell_type": "code",
   "execution_count": 7,
   "id": "0a4e2b1f",
   "metadata": {},
   "outputs": [
    {
     "name": "stdout",
     "output_type": "stream",
     "text": [
      "done\n",
      "done\n",
      "done\n"
     ]
    }
   ],
   "source": [
    "best1_input_chars = []\n",
    "mid2_input_chars = []\n",
    "mid3_input_chars = []\n",
    "worst4_input_chars = []\n",
    "best1_input_tokens = []\n",
    "mid2_input_tokens = []\n",
    "mid3_input_tokens = []\n",
    "worst4_input_tokens = []\n",
    "\n",
    "\n",
    "matrixFileToMatrix(character_1best_files, best1_input_chars)\n",
    "matrixFileToMatrix(token_1best_files, best1_input_tokens)\n",
    "\n",
    "print(\"done\")\n",
    "\n",
    "#matrixFileToMatrix(character_2mid_files, mid2_input_chars)\n",
    "#matrixFileToMatrix(token_2mid_files, mid2_input_tokens)\n",
    "\n",
    "print(\"done\")\n",
    "\n",
    "#matrixFileToMatrix(character_3mid_files, mid3_input_chars)\n",
    "#matrixFileToMatrix(token_3mid_files, mid3_input_tokens)\n",
    "\n",
    "print(\"done\")\n",
    "\n",
    "matrixFileToMatrix(character_4worst_files, worst4_input_chars)\n",
    "matrixFileToMatrix(token_4worst_files, worst4_input_tokens)"
   ]
  },
  {
   "cell_type": "code",
   "execution_count": 8,
   "id": "7f143d1b",
   "metadata": {},
   "outputs": [],
   "source": [
    "input4_characters_x = []\n",
    "input4_characters_y = []\n",
    "\n",
    "input4_tokens_x = []\n",
    "input4_tokens_y = []\n",
    "\n",
    "for x in best1_input_chars:\n",
    "    input4_characters_x.append(x)\n",
    "    input4_characters_y.append([0,1])\n",
    "\n",
    "#for x in mid2_input_chars:\n",
    " #   input4_characters_x.append(x)\n",
    "  #  input4_characters_y.append([0,0,1,0])\n",
    "    \n",
    "#for x in mid3_input_chars:\n",
    " #   input4_characters_x.append(x)\n",
    "  #  input4_characters_y.append([0,1,0,0])\n",
    "\n",
    "for x in worst4_input_chars:\n",
    "    input4_characters_x.append(x)\n",
    "    input4_characters_y.append([1,0])\n",
    "\n",
    "\n",
    "\n",
    "for x in best1_input_tokens:\n",
    "    input4_tokens_x.append(x)\n",
    "    input4_tokens_y.append([0, 1])\n",
    "\n",
    "#for x in mid2_input_tokens:\n",
    " #   input4_tokens_x.append(x)\n",
    "  #  input4_tokens_y.append([0,0,1,0])\n",
    "\n",
    "#for x in mid3_input_tokens:\n",
    " #   input4_tokens_x.append(x)\n",
    "  #  input4_tokens_y.append([0,1,0,0])\n",
    "\n",
    "for x in worst4_input_tokens:\n",
    "    input4_tokens_x.append(x)\n",
    "    input4_tokens_y.append([1,0])"
   ]
  },
  {
   "cell_type": "code",
   "execution_count": 9,
   "id": "b99468eb",
   "metadata": {},
   "outputs": [],
   "source": [
    "input4_characters_x = np.array(input4_characters_x)\n",
    "input4_characters_y = np.array(input4_characters_y)\n",
    "\n",
    "input4_tokens_x = np.array(input4_tokens_x)\n",
    "input4_tokens_y = np.array(input4_tokens_y)"
   ]
  },
  {
   "cell_type": "code",
   "execution_count": 10,
   "id": "8381816e",
   "metadata": {},
   "outputs": [
    {
     "name": "stdout",
     "output_type": "stream",
     "text": [
      "(8111, 50, 754)\n",
      "(8111, 2)\n",
      "(8111, 50, 754)\n",
      "(8111, 2)\n"
     ]
    }
   ],
   "source": [
    "print(input4_characters_x.shape)\n",
    "print(input4_characters_y.shape)\n",
    "\n",
    "print(input4_tokens_x.shape)\n",
    "print(input4_tokens_y.shape)"
   ]
  },
  {
   "cell_type": "code",
   "execution_count": 11,
   "id": "7f558ac2",
   "metadata": {},
   "outputs": [],
   "source": [
    "input4_characters_x, input4_characters_y = shuffle(input4_characters_x, input4_characters_y, random_state=0)\n",
    "\n",
    "input4_tokens_x, input4_tokens_y = shuffle(input4_tokens_x, input4_tokens_y, random_state=0)"
   ]
  },
  {
   "cell_type": "code",
   "execution_count": 12,
   "id": "d4a52faf",
   "metadata": {},
   "outputs": [],
   "source": [
    "x_characters_train4, x_characters_test4, y_characters_train4, y_characters_test4 = train_test_split(\n",
    "    input4_characters_x, input4_characters_y, test_size = 0.2, random_state=24)\n",
    "\n",
    "#x_characters_train4, x_characters_valid4, y_characters_train4, y_characters_valid4 = train_test_split(\n",
    " #   x_characters_train4, y_characters_train4, test_size = 0.125, random_state=24)\n",
    "\n",
    "x_tokens_train4, x_tokens_test4, y_tokens_train4, y_tokens_test4 = train_test_split(\n",
    "    input4_tokens_x, input4_tokens_y, test_size = 0.2, random_state=24)"
   ]
  },
  {
   "cell_type": "code",
   "execution_count": 13,
   "id": "e98c3ecc",
   "metadata": {},
   "outputs": [
    {
     "name": "stdout",
     "output_type": "stream",
     "text": [
      "Model: \"model\"\n",
      "__________________________________________________________________________________________________\n",
      " Layer (type)                   Output Shape         Param #     Connected to                     \n",
      "==================================================================================================\n",
      " input_1 (InputLayer)           [(None, 50, 754, 1)  0           []                               \n",
      "                                ]                                                                 \n",
      "                                                                                                  \n",
      " input_2 (InputLayer)           [(None, 50, 754, 1)  0           []                               \n",
      "                                ]                                                                 \n",
      "                                                                                                  \n",
      " conv2d (Conv2D)                (None, 49, 1, 100)   150900      ['input_1[0][0]']                \n",
      "                                                                                                  \n",
      " conv2d_3 (Conv2D)              (None, 49, 1, 100)   150900      ['input_2[0][0]']                \n",
      "                                                                                                  \n",
      " conv2d_1 (Conv2D)              (None, 48, 1, 100)   20100       ['conv2d[0][0]']                 \n",
      "                                                                                                  \n",
      " conv2d_4 (Conv2D)              (None, 48, 1, 100)   20100       ['conv2d_3[0][0]']               \n",
      "                                                                                                  \n",
      " conv2d_2 (Conv2D)              (None, 47, 1, 100)   20100       ['conv2d_1[0][0]']               \n",
      "                                                                                                  \n",
      " conv2d_5 (Conv2D)              (None, 47, 1, 100)   20100       ['conv2d_4[0][0]']               \n",
      "                                                                                                  \n",
      " max_pooling2d (MaxPooling2D)   (None, 23, 1, 100)   0           ['conv2d_2[0][0]']               \n",
      "                                                                                                  \n",
      " max_pooling2d_1 (MaxPooling2D)  (None, 23, 1, 100)  0           ['conv2d_5[0][0]']               \n",
      "                                                                                                  \n",
      " concatenate (Concatenate)      (None, 23, 1, 200)   0           ['max_pooling2d[0][0]',          \n",
      "                                                                  'max_pooling2d_1[0][0]']        \n",
      "                                                                                                  \n",
      " flatten (Flatten)              (None, 4600)         0           ['concatenate[0][0]']            \n",
      "                                                                                                  \n",
      " dropout (Dropout)              (None, 4600)         0           ['flatten[0][0]']                \n",
      "                                                                                                  \n",
      " dense (Dense)                  (None, 2)            9202        ['dropout[0][0]']                \n",
      "                                                                                                  \n",
      "==================================================================================================\n",
      "Total params: 391,402\n",
      "Trainable params: 391,402\n",
      "Non-trainable params: 0\n",
      "__________________________________________________________________________________________________\n",
      "None\n"
     ]
    }
   ],
   "source": [
    "batch_size = 32\n",
    "epochs = 6\n",
    "\n",
    "model_chars_input = Input((50,754,1))\n",
    "\n",
    "model_chars = Conv2D(100, kernel_size=(2, 754), strides=(1,1),\n",
    "                 activation='relu')(model_chars_input)\n",
    "model_chars = Conv2D(100, (2, 1), strides=(1,1), activation='relu')(model_chars)\n",
    "model_chars = Conv2D(100, (2, 1), strides=(1,1), activation='relu')(model_chars)\n",
    "model_chars = MaxPooling2D(pool_size=(2, 1), strides=(2,1))(model_chars)\n",
    "\n",
    "model_tokens_input = Input((50,754,1))\n",
    "\n",
    "model_tokens = Conv2D(100, kernel_size=(2, 754), strides=(1,1),\n",
    "                 activation='relu')(model_tokens_input)\n",
    "model_tokens = Conv2D(100, (2, 1), strides=(1,1), activation='relu')(model_tokens)\n",
    "model_tokens = Conv2D(100, (2, 1), strides=(1,1), activation='relu')(model_tokens)\n",
    "model_tokens = MaxPooling2D(pool_size=(2, 1), strides=(2,1))(model_tokens)\n",
    "\n",
    "\n",
    "merged = Concatenate()([model_chars, model_tokens])\n",
    "merged = Flatten()(merged)\n",
    "#merged = Dense(5, activation='relu')(merged)\n",
    "merged = Dropout(0.5)(merged)\n",
    "merged = Dense(2, activation='softmax')(merged)\n",
    "\n",
    "model_combined4 = Model(inputs=[model_chars_input, model_tokens_input], outputs=[merged])\n",
    "\n",
    "print(model_combined4.summary())"
   ]
  },
  {
   "cell_type": "code",
   "execution_count": 14,
   "id": "34903415",
   "metadata": {},
   "outputs": [
    {
     "name": "stdout",
     "output_type": "stream",
     "text": [
      "Epoch 1/6\n",
      "203/203 [==============================] - 51s 236ms/step - loss: 0.3457 - accuracy: 0.9160 - val_loss: 0.1425 - val_accuracy: 0.9649\n",
      "Epoch 2/6\n",
      "203/203 [==============================] - 37s 182ms/step - loss: 0.1727 - accuracy: 0.9524 - val_loss: 0.1056 - val_accuracy: 0.9704\n",
      "Epoch 3/6\n",
      "203/203 [==============================] - 35s 172ms/step - loss: 0.1521 - accuracy: 0.9579 - val_loss: 0.1199 - val_accuracy: 0.9698\n",
      "Epoch 4/6\n",
      "203/203 [==============================] - 35s 175ms/step - loss: 0.1304 - accuracy: 0.9598 - val_loss: 0.1128 - val_accuracy: 0.9704\n",
      "Epoch 5/6\n",
      "203/203 [==============================] - 35s 175ms/step - loss: 0.1123 - accuracy: 0.9675 - val_loss: 0.1335 - val_accuracy: 0.9680\n",
      "Epoch 6/6\n",
      "203/203 [==============================] - 35s 171ms/step - loss: 0.1322 - accuracy: 0.9659 - val_loss: 0.1113 - val_accuracy: 0.9636\n",
      "Test loss: 0.11133239418268204\n",
      "Test accuracy: 0.9636475443840027\n"
     ]
    }
   ],
   "source": [
    "model_combined4.compile(loss='categorical_crossentropy',\n",
    "              optimizer='adam',\n",
    "              metrics=['accuracy'])\n",
    "\n",
    "combined4_fit = model_combined4.fit([x_characters_train4, x_tokens_train4], y_characters_train4,\n",
    "          batch_size=batch_size,\n",
    "          epochs=epochs,\n",
    "          verbose=1,\n",
    "          validation_data=([x_characters_test4, x_tokens_test4], y_characters_test4))\n",
    "combined4_score = model_combined4.evaluate([x_characters_test4, x_tokens_test4], y_characters_test4, verbose=0)\n",
    "print('Test loss:', combined4_score[0])\n",
    "print('Test accuracy:', combined4_score[1])"
   ]
  },
  {
   "cell_type": "code",
   "execution_count": 20,
   "id": "9fd17039",
   "metadata": {},
   "outputs": [
    {
     "data": {
      "text/plain": [
       "<matplotlib.legend.Legend at 0x243d6bd2608>"
      ]
     },
     "execution_count": 20,
     "metadata": {},
     "output_type": "execute_result"
    },
    {
     "data": {
      "image/png": "[encoded data removed]",
      "text/plain": [
       "<Figure size 640x480 with 1 Axes>"
      ]
     },
     "metadata": {},
     "output_type": "display_data"
    }
   ],
   "source": [
    "plt.plot(combined4_fit.history['accuracy'], label='accuracy')\n",
    "plt.plot(combined4_fit.history['val_accuracy'], label = 'validation accuracy')\n",
    "plt.title('Model Accuracy')\n",
    "plt.xlabel('Epoch')\n",
    "plt.ylabel('Accuracy')\n",
    "plt.ylim([0.8, 1])\n",
    "plt.legend(loc='lower right')"
   ]
  },
  {
   "cell_type": "code",
   "execution_count": 19,
   "id": "37e0b849",
   "metadata": {},
   "outputs": [
    {
     "data": {
      "text/plain": [
       "<matplotlib.legend.Legend at 0x243d6a5ef88>"
      ]
     },
     "execution_count": 19,
     "metadata": {},
     "output_type": "execute_result"
    },
    {
     "data": {
      "image/png": "[encoded data removed]",
      "text/plain": [
       "<Figure size 640x480 with 1 Axes>"
      ]
     },
     "metadata": {},
     "output_type": "display_data"
    }
   ],
   "source": [
    "plt.plot(combined4_fit.history['loss'], label='loss')\n",
    "plt.plot(combined4_fit.history['val_loss'], label = 'validation loss')\n",
    "plt.title('Model Loss')\n",
    "plt.xlabel('Epoch')\n",
    "plt.ylabel('Loss')\n",
    "plt.legend(loc='lower right')"
   ]
  },
  {
   "cell_type": "code",
   "execution_count": 21,
   "id": "d3b34d8a",
   "metadata": {},
   "outputs": [
    {
     "name": "stdout",
     "output_type": "stream",
     "text": [
      "51/51 [==============================] - 5s 88ms/step\n"
     ]
    }
   ],
   "source": [
    "mi_predict2 = model_combined4.predict([x_characters_test4, x_tokens_test4])"
   ]
  },
  {
   "cell_type": "code",
   "execution_count": 23,
   "id": "62b475a1",
   "metadata": {},
   "outputs": [
    {
     "name": "stdout",
     "output_type": "stream",
     "text": [
      "[[780  45]\n",
      " [ 14 784]]\n"
     ]
    }
   ],
   "source": [
    "y_pred = np.argmax(mi_predict2, axis=1)\n",
    "y = np.argmax(y_characters_test4, axis=1)\n",
    "confusion = confusion_matrix(y, y_pred)\n",
    "print(confusion)"
   ]
  },
  {
   "cell_type": "markdown",
   "id": "b0141a95",
   "metadata": {},
   "source": [
    "# Single Character Based"
   ]
  },
  {
   "cell_type": "code",
   "execution_count": 32,
   "id": "cb0dce24",
   "metadata": {},
   "outputs": [
    {
     "name": "stdout",
     "output_type": "stream",
     "text": [
      "Model: \"sequential_1\"\n",
      "_________________________________________________________________\n",
      " Layer (type)                Output Shape              Param #   \n",
      "=================================================================\n",
      " conv2d_9 (Conv2D)           (None, 49, 1, 100)        150900    \n",
      "                                                                 \n",
      " conv2d_10 (Conv2D)          (None, 48, 1, 100)        20100     \n",
      "                                                                 \n",
      " conv2d_11 (Conv2D)          (None, 47, 1, 100)        20100     \n",
      "                                                                 \n",
      " max_pooling2d_3 (MaxPooling  (None, 23, 1, 100)       0         \n",
      " 2D)                                                             \n",
      "                                                                 \n",
      " flatten_2 (Flatten)         (None, 2300)              0         \n",
      "                                                                 \n",
      " dropout_2 (Dropout)         (None, 2300)              0         \n",
      "                                                                 \n",
      " dense_2 (Dense)             (None, 2)                 4602      \n",
      "                                                                 \n",
      "=================================================================\n",
      "Total params: 195,702\n",
      "Trainable params: 195,702\n",
      "Non-trainable params: 0\n",
      "_________________________________________________________________\n",
      "None\n"
     ]
    }
   ],
   "source": [
    "batch_size = 32\n",
    "epochs = 6\n",
    "\n",
    "model4 = Sequential()\n",
    "model4.add(Conv2D(100, kernel_size=(2, 754),\n",
    "                 activation='relu',\n",
    "                 input_shape=(50,754,1)))\n",
    "model4.add(Conv2D(100, (2, 1), activation='relu'))\n",
    "model4.add(Conv2D(100, (2, 1), activation='relu'))\n",
    "model4.add(MaxPooling2D(pool_size= (2,1)))\n",
    "model4.add(Flatten())\n",
    "model4.add(Dropout(0.5))\n",
    "model4.add(Dense(2, activation='softmax'))\n",
    "\n",
    "print(model4.summary())"
   ]
  },
  {
   "cell_type": "code",
   "execution_count": 39,
   "id": "58797e7b",
   "metadata": {},
   "outputs": [],
   "source": [
    "ann_viz(model4, view=True, filename = \"methodCharacterCNNMi\",\n",
    "        title=\"CNN for Character Representation of Methods Using Mi et al. Method\")"
   ]
  },
  {
   "cell_type": "code",
   "execution_count": 25,
   "id": "63e21d49",
   "metadata": {},
   "outputs": [
    {
     "name": "stdout",
     "output_type": "stream",
     "text": [
      "Epoch 1/6\n",
      "203/203 [==============================] - 21s 96ms/step - loss: 0.3097 - accuracy: 0.9098 - val_loss: 0.1704 - val_accuracy: 0.9636\n",
      "Epoch 2/6\n",
      "203/203 [==============================] - 19s 92ms/step - loss: 0.1615 - accuracy: 0.9551 - val_loss: 0.1407 - val_accuracy: 0.9575\n",
      "Epoch 3/6\n",
      "203/203 [==============================] - 18s 91ms/step - loss: 0.1512 - accuracy: 0.9602 - val_loss: 0.1340 - val_accuracy: 0.9643\n",
      "Epoch 4/6\n",
      "203/203 [==============================] - 17s 86ms/step - loss: 0.1458 - accuracy: 0.9625 - val_loss: 0.1061 - val_accuracy: 0.9710\n",
      "Epoch 5/6\n",
      "203/203 [==============================] - 17s 85ms/step - loss: 0.1209 - accuracy: 0.9629 - val_loss: 0.1072 - val_accuracy: 0.9704\n",
      "Epoch 6/6\n",
      "203/203 [==============================] - 17s 83ms/step - loss: 0.1274 - accuracy: 0.9672 - val_loss: 0.1037 - val_accuracy: 0.9729\n",
      "Test loss: 0.10365709662437439\n",
      "Test accuracy: 0.9728897213935852\n"
     ]
    }
   ],
   "source": [
    "model4.compile(loss='categorical_crossentropy',\n",
    "              optimizer='adam',\n",
    "              metrics=['accuracy'])\n",
    "\n",
    "character_fit = model4.fit(x_characters_train4, y_characters_train4,\n",
    "          batch_size=batch_size,\n",
    "          epochs=epochs,\n",
    "          verbose=1,\n",
    "          validation_data=(x_characters_test4, y_characters_test4))\n",
    "character_score = model4.evaluate(x_characters_test4, y_characters_test4, verbose=0)\n",
    "print('Test loss:', character_score[0])\n",
    "print('Test accuracy:', character_score[1])"
   ]
  },
  {
   "cell_type": "code",
   "execution_count": 27,
   "id": "f1a7fe72",
   "metadata": {},
   "outputs": [
    {
     "data": {
      "text/plain": [
       "<matplotlib.legend.Legend at 0x243d7efa8c8>"
      ]
     },
     "execution_count": 27,
     "metadata": {},
     "output_type": "execute_result"
    },
    {
     "data": {
      "image/png": "[encoded data removed]",
      "text/plain": [
       "<Figure size 640x480 with 1 Axes>"
      ]
     },
     "metadata": {},
     "output_type": "display_data"
    }
   ],
   "source": [
    "plt.plot(character_fit.history['accuracy'], label='accuracy')\n",
    "plt.plot(character_fit.history['val_accuracy'], label = 'validation accuracy')\n",
    "plt.title('Model Accuracy')\n",
    "plt.xlabel('Epoch')\n",
    "plt.ylabel('Accuracy')\n",
    "plt.ylim([0.8, 1])\n",
    "plt.legend(loc='lower right')"
   ]
  },
  {
   "cell_type": "code",
   "execution_count": 31,
   "id": "5e154f8c",
   "metadata": {},
   "outputs": [
    {
     "data": {
      "text/plain": [
       "<matplotlib.legend.Legend at 0x243d8217a88>"
      ]
     },
     "execution_count": 31,
     "metadata": {},
     "output_type": "execute_result"
    },
    {
     "data": {
      "image/png": "[encoded data removed]",
      "text/plain": [
       "<Figure size 640x480 with 1 Axes>"
      ]
     },
     "metadata": {},
     "output_type": "display_data"
    }
   ],
   "source": [
    "plt.plot(character_fit.history['loss'], label='loss')\n",
    "plt.plot(character_fit.history['val_loss'], label = 'validation loss')\n",
    "plt.title('Model Loss')\n",
    "plt.xlabel('Epoch')\n",
    "plt.ylabel('Loss')\n",
    "plt.legend(loc='lower right')"
   ]
  },
  {
   "cell_type": "code",
   "execution_count": 29,
   "id": "6c4c84a9",
   "metadata": {},
   "outputs": [
    {
     "name": "stdout",
     "output_type": "stream",
     "text": [
      "51/51 [==============================] - 2s 35ms/step\n"
     ]
    }
   ],
   "source": [
    "mi_predict2 = model4.predict(x_characters_test4)"
   ]
  },
  {
   "cell_type": "code",
   "execution_count": 30,
   "id": "7a55b94e",
   "metadata": {},
   "outputs": [
    {
     "name": "stdout",
     "output_type": "stream",
     "text": [
      "[[804  21]\n",
      " [ 23 775]]\n"
     ]
    }
   ],
   "source": [
    "y_pred = np.argmax(mi_predict2, axis=1)\n",
    "y = np.argmax(y_characters_test4, axis=1)\n",
    "confusion = confusion_matrix(y, y_pred)\n",
    "print(confusion)"
   ]
  },
  {
   "cell_type": "markdown",
   "id": "5c51bcfd",
   "metadata": {},
   "source": [
    "# Token Based"
   ]
  },
  {
   "cell_type": "code",
   "execution_count": 33,
   "id": "780643b0",
   "metadata": {},
   "outputs": [
    {
     "name": "stdout",
     "output_type": "stream",
     "text": [
      "Epoch 1/6\n",
      "203/203 [==============================] - 20s 93ms/step - loss: 0.3090 - accuracy: 0.8977 - val_loss: 0.1807 - val_accuracy: 0.9409\n",
      "Epoch 2/6\n",
      "203/203 [==============================] - 17s 82ms/step - loss: 0.1759 - accuracy: 0.9457 - val_loss: 0.1257 - val_accuracy: 0.9624\n",
      "Epoch 3/6\n",
      "203/203 [==============================] - 16s 80ms/step - loss: 0.1388 - accuracy: 0.9573 - val_loss: 0.1314 - val_accuracy: 0.9643\n",
      "Epoch 4/6\n",
      "203/203 [==============================] - 16s 81ms/step - loss: 0.1239 - accuracy: 0.9607 - val_loss: 0.1152 - val_accuracy: 0.9649\n",
      "Epoch 5/6\n",
      "203/203 [==============================] - 17s 85ms/step - loss: 0.1102 - accuracy: 0.9616 - val_loss: 0.1080 - val_accuracy: 0.9692\n",
      "Epoch 6/6\n",
      "203/203 [==============================] - 17s 83ms/step - loss: 0.1041 - accuracy: 0.9659 - val_loss: 0.1040 - val_accuracy: 0.9673\n",
      "Test loss: 0.1039966270327568\n",
      "Test accuracy: 0.9673444032669067\n"
     ]
    }
   ],
   "source": [
    "model4.compile(loss='categorical_crossentropy',\n",
    "              optimizer='adam',\n",
    "              metrics=['accuracy'])\n",
    "\n",
    "token_fit = model4.fit(x_tokens_train4, y_tokens_train4,\n",
    "          batch_size=batch_size,\n",
    "          epochs=epochs,\n",
    "          verbose=1,\n",
    "          validation_data=(x_tokens_test4, y_tokens_test4))\n",
    "token_score = model4.evaluate(x_tokens_test4, y_tokens_test4, verbose=0)\n",
    "print('Test loss:', token_score[0])\n",
    "print('Test accuracy:', token_score[1])"
   ]
  },
  {
   "cell_type": "code",
   "execution_count": 34,
   "id": "58f7235b",
   "metadata": {},
   "outputs": [
    {
     "data": {
      "text/plain": [
       "<matplotlib.legend.Legend at 0x243d8519cc8>"
      ]
     },
     "execution_count": 34,
     "metadata": {},
     "output_type": "execute_result"
    },
    {
     "data": {
      "image/png": "[encoded data removed]",
      "text/plain": [
       "<Figure size 640x480 with 1 Axes>"
      ]
     },
     "metadata": {},
     "output_type": "display_data"
    }
   ],
   "source": [
    "plt.plot(token_fit.history['accuracy'], label='accuracy')\n",
    "plt.plot(token_fit.history['val_accuracy'], label = 'validation accuracy')\n",
    "plt.title('Model Accuracy')\n",
    "plt.xlabel('Epoch')\n",
    "plt.ylabel('Accuracy')\n",
    "plt.ylim([0.8, 1])\n",
    "plt.legend(loc='lower right')"
   ]
  },
  {
   "cell_type": "code",
   "execution_count": 35,
   "id": "35494757",
   "metadata": {},
   "outputs": [
    {
     "data": {
      "text/plain": [
       "<matplotlib.legend.Legend at 0x243d95f6a08>"
      ]
     },
     "execution_count": 35,
     "metadata": {},
     "output_type": "execute_result"
    },
    {
     "data": {
      "image/png": "[encoded data removed]",
      "text/plain": [
       "<Figure size 640x480 with 1 Axes>"
      ]
     },
     "metadata": {},
     "output_type": "display_data"
    }
   ],
   "source": [
    "plt.plot(token_fit.history['loss'], label='loss')\n",
    "plt.plot(token_fit.history['val_loss'], label = 'validation loss')\n",
    "plt.title('Model Loss')\n",
    "plt.xlabel('Epoch')\n",
    "plt.ylabel('Loss')\n",
    "plt.legend(loc='lower right')"
   ]
  },
  {
   "cell_type": "code",
   "execution_count": 37,
   "id": "34be4c4d",
   "metadata": {},
   "outputs": [
    {
     "name": "stdout",
     "output_type": "stream",
     "text": [
      "51/51 [==============================] - 2s 31ms/step\n"
     ]
    }
   ],
   "source": [
    "mi_predict2 = model4.predict(x_tokens_test4)"
   ]
  },
  {
   "cell_type": "code",
   "execution_count": 38,
   "id": "529ecf7c",
   "metadata": {},
   "outputs": [
    {
     "name": "stdout",
     "output_type": "stream",
     "text": [
      "[[798  27]\n",
      " [ 26 772]]\n"
     ]
    }
   ],
   "source": [
    "y_pred = np.argmax(mi_predict2, axis=1)\n",
    "y = np.argmax(y_tokens_test4, axis=1)\n",
    "confusion = confusion_matrix(y, y_pred)\n",
    "print(confusion)"
   ]
  },
  {
   "cell_type": "markdown",
   "id": "d3b26898",
   "metadata": {},
   "source": [
    "# Scalabrino Test"
   ]
  },
  {
   "cell_type": "code",
   "execution_count": 36,
   "id": "1c9bb3fd",
   "metadata": {},
   "outputs": [],
   "source": [
    "character_1best_files = []\n",
    "token_1best_files = []\n",
    "character_2mid_files = []\n",
    "token_2mid_files = []\n",
    "character_3mid_files = []\n",
    "token_3mid_files = []\n",
    "character_4worst_files = []\n",
    "token_4worst_files = []\n",
    "\n",
    "#Adding Scalabrino\n",
    "character_1best_file_path = r\"C:\\Users\\pauld\\PycharmProjects\\DeepCRMFYP\\Source Code\\Character\\Users\\pauld\\OneDrive\\Documents\\DSA\\FYP\\ScalabrinoDataset\\Ranked_Snippets\\4\"\n",
    "token_1best_file_path = r\"C:\\Users\\pauld\\PycharmProjects\\DeepCRMFYP\\Source Code\\Token\\Users\\pauld\\OneDrive\\Documents\\DSA\\FYP\\ScalabrinoDataset\\Ranked_Snippets\\4\"\n",
    "character_2mid_file_path = r\"C:\\Users\\pauld\\PycharmProjects\\DeepCRMFYP\\Source Code\\Character\\Users\\pauld\\OneDrive\\Documents\\DSA\\FYP\\ScalabrinoDataset\\Ranked_Snippets\\3\"\n",
    "token_2mid_file_path = r\"C:\\Users\\pauld\\PycharmProjects\\DeepCRMFYP\\Source Code\\Token\\Users\\pauld\\OneDrive\\Documents\\DSA\\FYP\\ScalabrinoDataset\\Ranked_Snippets\\3\"\n",
    "\n",
    "character_3mid_file_path = r\"C:\\Users\\pauld\\PycharmProjects\\DeepCRMFYP\\Source Code\\Character\\Users\\pauld\\OneDrive\\Documents\\DSA\\FYP\\ScalabrinoDataset\\Ranked_Snippets\\2\"\n",
    "token_3mid_file_path = r\"C:\\Users\\pauld\\PycharmProjects\\DeepCRMFYP\\Source Code\\Token\\Users\\pauld\\OneDrive\\Documents\\DSA\\FYP\\ScalabrinoDataset\\Ranked_Snippets\\2\"\n",
    "\n",
    "character_4worst_file_path = r\"C:\\Users\\pauld\\PycharmProjects\\DeepCRMFYP\\Source Code\\Character\\Users\\pauld\\OneDrive\\Documents\\DSA\\FYP\\ScalabrinoDataset\\Ranked_Snippets\\1\"\n",
    "token_4worst_file_path = r\"C:\\Users\\pauld\\PycharmProjects\\DeepCRMFYP\\Source Code\\Token\\Users\\pauld\\OneDrive\\Documents\\DSA\\FYP\\ScalabrinoDataset\\Ranked_Snippets\\1\"\n",
    "\n",
    "for parent, dirnames, filenames in os.walk(character_1best_file_path):\n",
    "    for filename in filenames:\n",
    "        character_1best_files.append(os.path.join(parent, filename))\n",
    "        \n",
    "for parent, dirnames, filenames in os.walk(token_1best_file_path):\n",
    "    for filename in filenames:\n",
    "        token_1best_files.append(os.path.join(parent, filename))\n",
    "        \n",
    "for parent, dirnames, filenames in os.walk(character_2mid_file_path):\n",
    "    for filename in filenames:\n",
    "        character_2mid_files.append(os.path.join(parent, filename))\n",
    "        \n",
    "for parent, dirnames, filenames in os.walk(token_2mid_file_path):\n",
    "    for filename in filenames:\n",
    "        token_2mid_files.append(os.path.join(parent, filename))\n",
    "\n",
    "for parent, dirnames, filenames in os.walk(character_3mid_file_path):\n",
    "    for filename in filenames:\n",
    "        character_3mid_files.append(os.path.join(parent, filename))\n",
    "        \n",
    "for parent, dirnames, filenames in os.walk(token_3mid_file_path):\n",
    "    for filename in filenames:\n",
    "        token_3mid_files.append(os.path.join(parent, filename))\n",
    "        \n",
    "for parent, dirnames, filenames in os.walk(character_4worst_file_path):\n",
    "    for filename in filenames:\n",
    "        character_4worst_files.append(os.path.join(parent, filename))\n",
    "        \n",
    "for parent, dirnames, filenames in os.walk(token_4worst_file_path):\n",
    "    for filename in filenames:\n",
    "        token_4worst_files.append(os.path.join(parent, filename))\n"
   ]
  },
  {
   "cell_type": "code",
   "execution_count": 39,
   "id": "906992f0",
   "metadata": {},
   "outputs": [
    {
     "name": "stdout",
     "output_type": "stream",
     "text": [
      "done\n",
      "done\n",
      "done\n"
     ]
    }
   ],
   "source": [
    "scala_best1_input_chars = []\n",
    "scala_mid2_input_chars = []\n",
    "scala_mid3_input_chars = []\n",
    "scala_worst4_input_chars = []\n",
    "scala_best1_input_tokens = []\n",
    "scala_mid2_input_tokens = []\n",
    "scala_mid3_input_tokens = []\n",
    "scala_worst4_input_tokens = []\n",
    "\n",
    "\n",
    "matrixFileToMatrix(character_1best_files, scala_best1_input_chars)\n",
    "matrixFileToMatrix(token_1best_files, scala_best1_input_tokens)\n",
    "\n",
    "print(\"done\")\n",
    "\n",
    "matrixFileToMatrix(character_2mid_files, scala_mid2_input_chars)\n",
    "matrixFileToMatrix(token_2mid_files, scala_mid2_input_tokens)\n",
    "\n",
    "print(\"done\")\n",
    "\n",
    "matrixFileToMatrix(character_3mid_files, scala_mid3_input_chars)\n",
    "matrixFileToMatrix(token_3mid_files, scala_mid3_input_tokens)\n",
    "\n",
    "print(\"done\")\n",
    "\n",
    "matrixFileToMatrix(character_4worst_files, scala_worst4_input_chars)\n",
    "matrixFileToMatrix(token_4worst_files, scala_worst4_input_tokens)"
   ]
  },
  {
   "cell_type": "code",
   "execution_count": 40,
   "id": "9c760ca4",
   "metadata": {},
   "outputs": [],
   "source": [
    "scala_input2_characters_x = []\n",
    "scala_input2_characters_y = []\n",
    "\n",
    "scala_input2_tokens_x = []\n",
    "scala_input2_tokens_y = []\n",
    "\n",
    "for x in scala_best1_input_chars:\n",
    "    scala_input2_characters_x.append(x)\n",
    "    scala_input2_characters_y.append([0,1])\n",
    "\n",
    "#for x in mid2_input_chars:\n",
    " #   input4_characters_x.append(x)\n",
    "  #  input4_characters_y.append([0,0,1,0])\n",
    "    \n",
    "#for x in mid3_input_chars:\n",
    " #   input4_characters_x.append(x)\n",
    "  #  input4_characters_y.append([0,1,0,0])\n",
    "\n",
    "for x in scala_worst4_input_chars:\n",
    "    scala_input2_characters_x.append(x)\n",
    "    scala_input2_characters_y.append([1,0])\n",
    "\n",
    "\n",
    "\n",
    "for x in scala_best1_input_tokens:\n",
    "    scala_input2_tokens_x.append(x)\n",
    "    scala_input2_tokens_y.append([0, 1])\n",
    "\n",
    "#for x in mid2_input_tokens:\n",
    " #   input4_tokens_x.append(x)\n",
    "  #  input4_tokens_y.append([0,0,1,0])\n",
    "\n",
    "#for x in mid3_input_tokens:\n",
    " #   input4_tokens_x.append(x)\n",
    "  #  input4_tokens_y.append([0,1,0,0])\n",
    "\n",
    "for x in scala_worst4_input_tokens:\n",
    "    scala_input2_tokens_x.append(x)\n",
    "    scala_input2_tokens_y.append([1,0])"
   ]
  },
  {
   "cell_type": "code",
   "execution_count": 42,
   "id": "039033c4",
   "metadata": {},
   "outputs": [],
   "source": [
    "scala_input2_characters_x = np.array(scala_input2_characters_x)\n",
    "scala_input2_characters_y = np.array(scala_input2_characters_y)\n",
    "\n",
    "scala_input2_tokens_x = np.array(scala_input2_tokens_x)\n",
    "scala_input2_tokens_y = np.array(scala_input2_tokens_y)"
   ]
  },
  {
   "cell_type": "code",
   "execution_count": 44,
   "id": "5ba01f60",
   "metadata": {},
   "outputs": [
    {
     "name": "stdout",
     "output_type": "stream",
     "text": [
      "Test loss: 1.7342760562896729\n",
      "Test accuracy: 0.6036036014556885\n"
     ]
    }
   ],
   "source": [
    "combined4_score = model_combined4.evaluate([scala_input2_characters_x, scala_input2_tokens_x], scala_input2_characters_y, verbose=0)\n",
    "print('Test loss:', combined4_score[0])\n",
    "print('Test accuracy:', combined4_score[1])"
   ]
  },
  {
   "cell_type": "code",
   "execution_count": 64,
   "id": "cfe2a652",
   "metadata": {},
   "outputs": [],
   "source": [
    "scala_input2_characters_x, scala_input2_characters_y = shuffle(scala_input2_characters_x, scala_input2_characters_y, random_state=70)\n",
    "\n",
    "scala_input2_tokens_x, scala_input2_tokens_y = shuffle(scala_input2_tokens_x, scala_input2_tokens_y, random_state=70)"
   ]
  },
  {
   "cell_type": "code",
   "execution_count": 65,
   "id": "c28057fb",
   "metadata": {},
   "outputs": [],
   "source": [
    "scala_x_characters_train2, scala_x_characters_test2, scala_y_characters_train2, scala_y_characters_test2 = train_test_split(\n",
    "    scala_input2_characters_x, scala_input2_characters_y, test_size = 0.2, random_state=24)\n",
    "\n",
    "#x_characters_train4, x_characters_valid4, y_characters_train4, y_characters_valid4 = train_test_split(\n",
    " #   x_characters_train4, y_characters_train4, test_size = 0.125, random_state=24)\n",
    "\n",
    "scala_x_tokens_train2, scala_x_tokens_test2, scala_y_tokens_train2, scala_y_tokens_test2 = train_test_split(\n",
    "    scala_input2_tokens_x, scala_input2_tokens_y, test_size = 0.2, random_state=24)"
   ]
  },
  {
   "cell_type": "code",
   "execution_count": 68,
   "id": "4c62881f",
   "metadata": {},
   "outputs": [
    {
     "name": "stdout",
     "output_type": "stream",
     "text": [
      "Epoch 1/20\n",
      "5/5 [==============================] - 1s 151ms/step - loss: 2.1638 - accuracy: 0.5909 - val_loss: 3.9867 - val_accuracy: 0.4783\n",
      "Epoch 2/20\n",
      "5/5 [==============================] - 0s 96ms/step - loss: 3.6459 - accuracy: 0.4773 - val_loss: 1.4906 - val_accuracy: 0.4348\n",
      "Epoch 3/20\n",
      "5/5 [==============================] - 1s 105ms/step - loss: 1.2818 - accuracy: 0.6591 - val_loss: 1.3073 - val_accuracy: 0.4348\n",
      "Epoch 4/20\n",
      "5/5 [==============================] - 0s 91ms/step - loss: 1.1658 - accuracy: 0.6477 - val_loss: 1.3695 - val_accuracy: 0.3913\n",
      "Epoch 5/20\n",
      "5/5 [==============================] - 0s 77ms/step - loss: 1.1220 - accuracy: 0.6591 - val_loss: 1.2533 - val_accuracy: 0.3913\n",
      "Epoch 6/20\n",
      "5/5 [==============================] - 0s 81ms/step - loss: 0.9208 - accuracy: 0.7273 - val_loss: 1.0080 - val_accuracy: 0.5652\n",
      "Epoch 7/20\n",
      "5/5 [==============================] - 0s 82ms/step - loss: 0.8871 - accuracy: 0.7500 - val_loss: 0.9550 - val_accuracy: 0.5217\n",
      "Epoch 8/20\n",
      "5/5 [==============================] - 0s 67ms/step - loss: 0.6574 - accuracy: 0.7386 - val_loss: 1.0103 - val_accuracy: 0.5217\n",
      "Epoch 9/20\n",
      "5/5 [==============================] - 0s 77ms/step - loss: 0.5358 - accuracy: 0.7614 - val_loss: 0.9362 - val_accuracy: 0.4783\n",
      "Epoch 10/20\n",
      "5/5 [==============================] - 0s 75ms/step - loss: 0.3469 - accuracy: 0.8523 - val_loss: 1.1317 - val_accuracy: 0.4783\n",
      "Epoch 11/20\n",
      "5/5 [==============================] - 0s 68ms/step - loss: 0.3321 - accuracy: 0.8295 - val_loss: 1.1624 - val_accuracy: 0.4783\n",
      "Epoch 12/20\n",
      "5/5 [==============================] - 0s 68ms/step - loss: 0.3453 - accuracy: 0.8409 - val_loss: 1.0089 - val_accuracy: 0.4348\n",
      "Epoch 13/20\n",
      "5/5 [==============================] - 0s 79ms/step - loss: 0.2880 - accuracy: 0.8864 - val_loss: 0.9756 - val_accuracy: 0.4783\n",
      "Epoch 14/20\n",
      "5/5 [==============================] - 0s 94ms/step - loss: 0.2241 - accuracy: 0.9205 - val_loss: 1.0302 - val_accuracy: 0.5217\n",
      "Epoch 15/20\n",
      "5/5 [==============================] - 0s 77ms/step - loss: 0.1336 - accuracy: 0.9659 - val_loss: 1.1155 - val_accuracy: 0.6522\n",
      "Epoch 16/20\n",
      "5/5 [==============================] - 0s 80ms/step - loss: 0.2000 - accuracy: 0.8977 - val_loss: 1.2127 - val_accuracy: 0.4348\n",
      "Epoch 17/20\n",
      "5/5 [==============================] - 0s 68ms/step - loss: 0.2003 - accuracy: 0.9318 - val_loss: 1.2743 - val_accuracy: 0.5217\n",
      "Epoch 18/20\n",
      "5/5 [==============================] - 0s 91ms/step - loss: 0.0966 - accuracy: 0.9545 - val_loss: 1.6032 - val_accuracy: 0.5217\n",
      "Epoch 19/20\n",
      "5/5 [==============================] - 0s 100ms/step - loss: 0.1014 - accuracy: 0.9886 - val_loss: 1.4584 - val_accuracy: 0.5652\n",
      "Epoch 20/20\n",
      "5/5 [==============================] - 0s 94ms/step - loss: 0.0919 - accuracy: 0.9773 - val_loss: 1.4425 - val_accuracy: 0.5217\n",
      "Test loss: 1.4425145387649536\n",
      "Test accuracy: 0.52173912525177\n"
     ]
    }
   ],
   "source": [
    "model_combined4.compile(loss='categorical_crossentropy',\n",
    "              optimizer='adam',\n",
    "              metrics=['accuracy'])\n",
    "\n",
    "combined4_fit = model_combined4.fit([scala_x_characters_train2, scala_x_tokens_train2], scala_y_characters_train2,\n",
    "          batch_size=20,\n",
    "          epochs=20,\n",
    "          verbose=1,\n",
    "          validation_data=([scala_x_characters_test2, scala_x_tokens_test2], scala_y_characters_test2))\n",
    "combined4_score = model_combined4.evaluate([scala_x_characters_test2, scala_x_tokens_test2], scala_y_characters_test2, verbose=0)\n",
    "print('Test loss:', combined4_score[0])\n",
    "print('Test accuracy:', combined4_score[1])"
   ]
  },
  {
   "cell_type": "markdown",
   "id": "8d4d0e13",
   "metadata": {},
   "source": [
    "# Four Class Style"
   ]
  },
  {
   "cell_type": "code",
   "execution_count": null,
   "id": "777d6648",
   "metadata": {},
   "outputs": [],
   "source": [
    "# tweak above"
   ]
  }
 ],
 "metadata": {
  "kernelspec": {
   "display_name": "Python 3 (ipykernel)",
   "language": "python",
   "name": "python3"
  },
  "language_info": {
   "codemirror_mode": {
    "name": "ipython",
    "version": 3
   },
   "file_extension": ".py",
   "mimetype": "text/x-python",
   "name": "python",
   "nbconvert_exporter": "python",
   "pygments_lexer": "ipython3",
   "version": "3.7.13"
  }
 },
 "nbformat": 4,
 "nbformat_minor": 5
}
